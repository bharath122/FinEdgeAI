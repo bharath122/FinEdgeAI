{
 "cells": [
  {
   "cell_type": "code",
   "execution_count": 34,
   "id": "e5a1c73f-c591-4dd6-840c-d0d56d02a118",
   "metadata": {},
   "outputs": [],
   "source": [
    "import pandas as pd\n",
    "import numpy as np\n",
    "import matplotlib.pyplot as plt\n",
    "import seaborn as sns"
   ]
  },
  {
   "cell_type": "code",
   "execution_count": 35,
   "id": "e6540083-e859-4075-be20-c9b1648d1d4c",
   "metadata": {},
   "outputs": [],
   "source": [
    "transaction_df = pd.read_csv('Processed_Transactions.csv')"
   ]
  },
  {
   "cell_type": "code",
   "execution_count": 36,
   "id": "3dc440e8-7235-4d2d-9897-3cad4f466a08",
   "metadata": {},
   "outputs": [
    {
     "name": "stdout",
     "output_type": "stream",
     "text": [
      "TRANSACTION_ID                  object\n",
      "ACCOUNT_TYPE                     int64\n",
      "TRANSACTION_CODE                 int64\n",
      "TRANSACTION_DATE                object\n",
      "TRANSACTION_CURRENCY            object\n",
      "TRANSACTION_CURRENCY_AMOUNT    float64\n",
      "TRANSACTION_AMOUNT             float64\n",
      "TRANSACTION_ACCOUNT              int64\n",
      "TRANSACTION_CUSTOMER             int64\n",
      "TRANSACTION_DEBIT_CREDIT         int64\n",
      "CUSTOMER_FISCAL_COUNTRY         object\n",
      "CUSTOMER_BIRTH_COUNTRY         float64\n",
      "CUSTOMER_BIRTH_CITY            float64\n",
      "CUSTOMER_BIRTH_DATE             object\n",
      "CUSTOMER_OCCUPATION             object\n",
      "CUSTOMER_RISK_SCORE              int64\n",
      "CUSTOMER_ONBOARD_DATE           object\n",
      "ACCOUNT_CURRENT_BALANCE        float64\n",
      "ACCOUNT_CURRENCY                object\n",
      "ACCOUNT_OPEN_DATE               object\n",
      "dtype: object\n"
     ]
    }
   ],
   "source": [
    "#describe the dataframe\n",
    "\n",
    "print(transaction_df.dtypes)"
   ]
  },
  {
   "cell_type": "markdown",
   "id": "ca4ba656-ce51-4162-944d-999315d10e06",
   "metadata": {},
   "source": [
    "### Converting 'TRANSACTION_DATE' from 'datetime' to timestamp"
   ]
  },
  {
   "cell_type": "code",
   "execution_count": 28,
   "id": "df53a75d-77e7-43c8-b12f-b89c12dd550b",
   "metadata": {},
   "outputs": [
    {
     "name": "stdout",
     "output_type": "stream",
     "text": [
      "0    1690761600\n",
      "1    1697068800\n",
      "2    1642032000\n",
      "3    1637625600\n",
      "4    1640563200\n",
      "Name: TRANSACTION_DATE, dtype: int32\n"
     ]
    }
   ],
   "source": [
    "transaction_df['TRANSACTION_DATE']=pd.to_datetime(transaction_df['TRANSACTION_DATE'])\n",
    "transaction_df['TRANSACTION_DATE'] = transaction_df['TRANSACTION_DATE'].apply(lambda x:x.timestamp())\n",
    "transaction_df['TRANSACTION_DATE']=transaction_df['TRANSACTION_DATE'].astype(int)\n",
    "\n",
    "print(transaction_df['TRANSACTION_DATE'].head())"
   ]
  },
  {
   "cell_type": "markdown",
   "id": "99017e1e-84c1-4f0e-a648-cb0d5ce213d5",
   "metadata": {},
   "source": [
    "### Converting 'TRANSACTION_DATE' column from object to int"
   ]
  },
  {
   "cell_type": "code",
   "execution_count": 29,
   "id": "2472655d-433e-459a-a606-beaec92b3ef5",
   "metadata": {},
   "outputs": [],
   "source": [
    "transaction_df['TRANSACTION_DATE'] = transaction_df['TRANSACTION_DATE'].astype(int)"
   ]
  },
  {
   "cell_type": "code",
   "execution_count": 30,
   "id": "188eaa3f-87b8-48b3-ac76-bd1b6c0b3b0c",
   "metadata": {},
   "outputs": [
    {
     "name": "stdout",
     "output_type": "stream",
     "text": [
      "       ACCOUNT_TYPE  TRANSACTION_CODE  TRANSACTION_DATE  \\\n",
      "count      45878.00          45878.00      4.587800e+04   \n",
      "mean        5683.53           2986.42      1.670584e+09   \n",
      "std          817.75           2172.45      2.929049e+07   \n",
      "min         1001.00              1.00      1.628813e+09   \n",
      "50%         6003.00           5025.00      1.669982e+09   \n",
      "90%         6003.00           5044.00      1.707696e+09   \n",
      "92%         6003.00           5044.00      1.709251e+09   \n",
      "93%         6003.00           5044.00      1.709856e+09   \n",
      "94%         6003.00           5045.00      1.710720e+09   \n",
      "95%         6003.00           5045.00      1.711066e+09   \n",
      "96%         6003.00           5045.00      1.711584e+09   \n",
      "97%         6003.00           5045.00      1.712534e+09   \n",
      "98%         6003.00           5045.00      1.712880e+09   \n",
      "99%         6003.00           5045.00      1.713418e+09   \n",
      "max         6008.00           5045.00      1.715904e+09   \n",
      "\n",
      "       TRANSACTION_CURRENCY_AMOUNT  TRANSACTION_AMOUNT  TRANSACTION_ACCOUNT  \\\n",
      "count                     45878.00            45878.00         4.587800e+04   \n",
      "mean                     100101.32           101183.96         1.046537e+10   \n",
      "std                      693325.27           695222.45         5.688555e+09   \n",
      "min                           0.09                0.01         1.000000e+10   \n",
      "50%                        3000.00             3000.00         1.000001e+10   \n",
      "90%                      200000.00           200000.00         1.000002e+10   \n",
      "92%                      200000.00           200000.00         1.000002e+10   \n",
      "93%                      200000.00           200000.00         1.000002e+10   \n",
      "94%                      249817.52           249968.80         1.000002e+10   \n",
      "95%                      300000.00           307970.00         1.000002e+10   \n",
      "96%                      470000.00           470000.00         1.000002e+10   \n",
      "97%                      500000.00           500000.00         1.000002e+10   \n",
      "98%                      808357.50           842856.00         1.000002e+10   \n",
      "99%                     1480842.60          1480842.60         1.000002e+10   \n",
      "max                    50000000.00         50000000.00         8.000000e+10   \n",
      "\n",
      "       TRANSACTION_CUSTOMER  TRANSACTION_DEBIT_CREDIT  CUSTOMER_BIRTH_COUNTRY  \\\n",
      "count              45878.00                  45878.00                     0.0   \n",
      "mean             1001914.06                      0.32                     NaN   \n",
      "std                 1704.18                      0.47                     NaN   \n",
      "min              1000005.00                      0.00                     NaN   \n",
      "50%              1001560.00                      0.00                     NaN   \n",
      "90%              1004716.00                      1.00                     NaN   \n",
      "92%              1004808.00                      1.00                     NaN   \n",
      "93%              1004808.00                      1.00                     NaN   \n",
      "94%              1004808.00                      1.00                     NaN   \n",
      "95%              1005080.10                      1.00                     NaN   \n",
      "96%              1005187.00                      1.00                     NaN   \n",
      "97%              1005362.00                      1.00                     NaN   \n",
      "98%              1005459.00                      1.00                     NaN   \n",
      "99%              1005888.00                      1.00                     NaN   \n",
      "max              1005888.00                      1.00                     NaN   \n",
      "\n",
      "       CUSTOMER_BIRTH_CITY  CUSTOMER_RISK_SCORE  ACCOUNT_CURRENT_BALANCE  \n",
      "count                  0.0             45878.00                 45679.00  \n",
      "mean                   NaN                81.29                491622.20  \n",
      "std                    NaN                15.16               2888278.00  \n",
      "min                    NaN                26.00              -3021846.06  \n",
      "50%                    NaN                85.00                  1146.00  \n",
      "90%                    NaN               100.00                415375.00  \n",
      "92%                    NaN               100.00                538213.00  \n",
      "93%                    NaN               100.00                722123.06  \n",
      "94%                    NaN               100.00               1088916.83  \n",
      "95%                    NaN               100.00               2798279.90  \n",
      "96%                    NaN               100.00               5103396.00  \n",
      "97%                    NaN               100.00               6891686.35  \n",
      "98%                    NaN               100.00               8176657.43  \n",
      "99%                    NaN               100.00              13024091.80  \n",
      "max                    NaN               100.00              50046065.00  \n"
     ]
    }
   ],
   "source": [
    "additional_percentiles=[0.90, 0.92, 0.93, 0.94, 0.95, 0.96, 0.97, 0.98, 0.99]\n",
    "print(transaction_df.select_dtypes(include='number').describe(percentiles=additional_percentiles).round(2))"
   ]
  },
  {
   "cell_type": "code",
   "execution_count": 37,
   "id": "a208f11d-e448-461a-be50-1fda9f56ac9b",
   "metadata": {},
   "outputs": [
    {
     "name": "stdout",
     "output_type": "stream",
     "text": [
      "FRAUD\n",
      "0.0    45113\n",
      "1.0      765\n",
      "Name: count, dtype: int64\n"
     ]
    }
   ],
   "source": [
    "\n",
    "#account_id = 10000000127\n",
    "amount_summary=transaction_df.groupby('TRANSACTION_ACCOUNT')['TRANSACTION_CURRENCY_AMOUNT'].describe(percentiles=additional_percentiles).round(2)\n",
    "# print(amount_summary.loc[account_id, '98%'])\n",
    "#print(amount_summary['99%'])\n",
    "\n",
    "for transaction_index, transaction_row in transaction_df.iterrows():\n",
    "    if transaction_df.loc[transaction_index,'TRANSACTION_CURRENCY_AMOUNT'] > amount_summary.loc[transaction_df.loc[transaction_index, 'TRANSACTION_ACCOUNT'],'99%'] and transaction_df.loc[transaction_index,'CUSTOMER_RISK_SCORE']>60:\n",
    "        transaction_df.loc[transaction_index,'FRAUD'] = 1\n",
    "    else:\n",
    "        transaction_df.loc[transaction_index,'FRAUD'] = 0\n",
    "\n",
    "print(transaction_df['FRAUD'].value_counts())"
   ]
  },
  {
   "cell_type": "code",
   "execution_count": 38,
   "id": "046b4bfe-f2f0-4a8d-b918-086ab6b8d83c",
   "metadata": {},
   "outputs": [
    {
     "data": {
      "text/plain": [
       "<function matplotlib.pyplot.show(close=None, block=None)>"
      ]
     },
     "execution_count": 38,
     "metadata": {},
     "output_type": "execute_result"
    },
    {
     "data": {
      "image/png": "[encoded data removed]",
      "text/plain": [
       "<Figure size 640x480 with 1 Axes>"
      ]
     },
     "metadata": {},
     "output_type": "display_data"
    }
   ],
   "source": [
    "x=transaction_df['FRAUD']\n",
    "y=transaction_df['CUSTOMER_RISK_SCORE']\n",
    "\n",
    "plt.title('Scatter Plot between Identified Fraud Txn. VS Customer Risk Score')\n",
    "plt.xlabel('Fraud')\n",
    "plt.ylabel('Customer Risk')\n",
    "\n",
    "plt.scatter(x,y)\n",
    "plt.show"
   ]
  },
  {
   "cell_type": "code",
   "execution_count": 39,
   "id": "bd6f69b7-71a7-4102-a4a0-5944ac542e5f",
   "metadata": {},
   "outputs": [],
   "source": [
    "transaction_df.to_csv('classified_transactions.csv', index=False)"
   ]
  }
 ],
 "metadata": {
  "kernelspec": {
   "display_name": "Python 3 (ipykernel)",
   "language": "python",
   "name": "python3"
  },
  "language_info": {
   "codemirror_mode": {
    "name": "ipython",
    "version": 3
   },
   "file_extension": ".py",
   "mimetype": "text/x-python",
   "name": "python",
   "nbconvert_exporter": "python",
   "pygments_lexer": "ipython3",
   "version": "3.11.7"
  }
 },
 "nbformat": 4,
 "nbformat_minor": 5
}
