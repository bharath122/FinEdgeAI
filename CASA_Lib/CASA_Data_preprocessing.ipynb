{
 "cells": [
  {
   "cell_type": "code",
   "execution_count": 33,
   "id": "ca9bf5b5-1600-4650-81c7-f535e35bcdb2",
   "metadata": {},
   "outputs": [],
   "source": [
    "import pandas as pd\n",
    "import numpy as np\n",
    "# import matplotlib.pyplot as plt\n",
    "%matplotlib inline\n",
    "import seaborn as sns\n",
    "\n",
    "pd.pandas.set_option('display.max_columns',None)\n",
    "pd.pandas.set_option('display.max_rows',None)\n",
    "\n",
    "import datetime as datetime\n",
    "\n",
    "\n",
    "import plotly.express as px\n",
    "import plotly.offline as py\n",
    "import plotly.graph_objs as go\n",
    "\n",
    "from sklearn.preprocessing import LabelEncoder\n",
    "\n",
    "\n",
    "import matplotlib.pyplot as plt\n",
    "import calendar"
   ]
  },
  {
   "cell_type": "code",
   "execution_count": 2,
   "id": "b156c496-a334-4421-b9a2-3de72b19c229",
   "metadata": {},
   "outputs": [
    {
     "name": "stdout",
     "output_type": "stream",
     "text": [
      "(59514, 22)\n"
     ]
    }
   ],
   "source": [
    "dd=pd.DataFrame()\n",
    "chunk_size = 1000000  # Adjust based on your memory constraints\n",
    "for chunk in pd.read_csv('model_dataset.csv', chunksize=chunk_size,encoding='ISO_8859_1'):\n",
    "    # print(chunk.head())\n",
    "    dd=pd.concat([dd,chunk])\n",
    "    print(dd.shape)"
   ]
  },
  {
   "cell_type": "code",
   "execution_count": 4,
   "id": "7996eae7-1ecd-4fe0-88a6-e5c2fd78302a",
   "metadata": {},
   "outputs": [],
   "source": [
    "dd_copy=dd.copy()"
   ]
  },
  {
   "cell_type": "code",
   "execution_count": 5,
   "id": "1e80a5bc-a352-4df0-b9e2-8fb15782712d",
   "metadata": {},
   "outputs": [
    {
     "data": {
      "text/html": [
       "<div>\n",
       "<style scoped>\n",
       "    .dataframe tbody tr th:only-of-type {\n",
       "        vertical-align: middle;\n",
       "    }\n",
       "\n",
       "    .dataframe tbody tr th {\n",
       "        vertical-align: top;\n",
       "    }\n",
       "\n",
       "    .dataframe thead th {\n",
       "        text-align: right;\n",
       "    }\n",
       "</style>\n",
       "<table border=\"1\" class=\"dataframe\">\n",
       "  <thead>\n",
       "    <tr style=\"text-align: right;\">\n",
       "      <th></th>\n",
       "      <th>Unnamed: 0</th>\n",
       "      <th>Date</th>\n",
       "      <th>Amount</th>\n",
       "      <th>Use Chip</th>\n",
       "      <th>Merchant City</th>\n",
       "      <th>Merchant State</th>\n",
       "      <th>MCC</th>\n",
       "      <th>Is Fraud?</th>\n",
       "      <th>Current Age</th>\n",
       "      <th>Gender</th>\n",
       "      <th>Latitude</th>\n",
       "      <th>Longitude</th>\n",
       "      <th>Yearly Income - Person</th>\n",
       "      <th>Total Debt</th>\n",
       "      <th>FICO Score</th>\n",
       "      <th>CARD INDEX</th>\n",
       "      <th>Card Brand</th>\n",
       "      <th>Card Type</th>\n",
       "      <th>Card Number</th>\n",
       "      <th>Has Chip</th>\n",
       "      <th>Cards Issued</th>\n",
       "      <th>Credit Limit</th>\n",
       "    </tr>\n",
       "  </thead>\n",
       "  <tbody>\n",
       "    <tr>\n",
       "      <th>0</th>\n",
       "      <td>0</td>\n",
       "      <td>2015-11-15</td>\n",
       "      <td>287.13</td>\n",
       "      <td>Online Transaction</td>\n",
       "      <td>ONLINE</td>\n",
       "      <td>ONLINE</td>\n",
       "      <td>3001</td>\n",
       "      <td>1</td>\n",
       "      <td>53</td>\n",
       "      <td>Female</td>\n",
       "      <td>34.15</td>\n",
       "      <td>-117.76</td>\n",
       "      <td>59696</td>\n",
       "      <td>127613</td>\n",
       "      <td>787</td>\n",
       "      <td>0</td>\n",
       "      <td>Visa</td>\n",
       "      <td>Debit</td>\n",
       "      <td>4344676511950444</td>\n",
       "      <td>1</td>\n",
       "      <td>2</td>\n",
       "      <td>24295</td>\n",
       "    </tr>\n",
       "    <tr>\n",
       "      <th>1</th>\n",
       "      <td>1</td>\n",
       "      <td>2015-11-15</td>\n",
       "      <td>2.41</td>\n",
       "      <td>Online Transaction</td>\n",
       "      <td>ONLINE</td>\n",
       "      <td>ONLINE</td>\n",
       "      <td>5651</td>\n",
       "      <td>1</td>\n",
       "      <td>53</td>\n",
       "      <td>Female</td>\n",
       "      <td>34.15</td>\n",
       "      <td>-117.76</td>\n",
       "      <td>59696</td>\n",
       "      <td>127613</td>\n",
       "      <td>787</td>\n",
       "      <td>0</td>\n",
       "      <td>Visa</td>\n",
       "      <td>Debit</td>\n",
       "      <td>4344676511950444</td>\n",
       "      <td>1</td>\n",
       "      <td>2</td>\n",
       "      <td>24295</td>\n",
       "    </tr>\n",
       "    <tr>\n",
       "      <th>2</th>\n",
       "      <td>2</td>\n",
       "      <td>2015-11-16</td>\n",
       "      <td>50.81</td>\n",
       "      <td>Online Transaction</td>\n",
       "      <td>ONLINE</td>\n",
       "      <td>ONLINE</td>\n",
       "      <td>4411</td>\n",
       "      <td>1</td>\n",
       "      <td>53</td>\n",
       "      <td>Female</td>\n",
       "      <td>34.15</td>\n",
       "      <td>-117.76</td>\n",
       "      <td>59696</td>\n",
       "      <td>127613</td>\n",
       "      <td>787</td>\n",
       "      <td>0</td>\n",
       "      <td>Visa</td>\n",
       "      <td>Debit</td>\n",
       "      <td>4344676511950444</td>\n",
       "      <td>1</td>\n",
       "      <td>2</td>\n",
       "      <td>24295</td>\n",
       "    </tr>\n",
       "    <tr>\n",
       "      <th>3</th>\n",
       "      <td>3</td>\n",
       "      <td>2015-11-16</td>\n",
       "      <td>248.36</td>\n",
       "      <td>Online Transaction</td>\n",
       "      <td>ONLINE</td>\n",
       "      <td>ONLINE</td>\n",
       "      <td>5732</td>\n",
       "      <td>1</td>\n",
       "      <td>53</td>\n",
       "      <td>Female</td>\n",
       "      <td>34.15</td>\n",
       "      <td>-117.76</td>\n",
       "      <td>59696</td>\n",
       "      <td>127613</td>\n",
       "      <td>787</td>\n",
       "      <td>0</td>\n",
       "      <td>Visa</td>\n",
       "      <td>Debit</td>\n",
       "      <td>4344676511950444</td>\n",
       "      <td>1</td>\n",
       "      <td>2</td>\n",
       "      <td>24295</td>\n",
       "    </tr>\n",
       "    <tr>\n",
       "      <th>4</th>\n",
       "      <td>4</td>\n",
       "      <td>2015-11-16</td>\n",
       "      <td>473.00</td>\n",
       "      <td>Online Transaction</td>\n",
       "      <td>ONLINE</td>\n",
       "      <td>ONLINE</td>\n",
       "      <td>3640</td>\n",
       "      <td>1</td>\n",
       "      <td>53</td>\n",
       "      <td>Female</td>\n",
       "      <td>34.15</td>\n",
       "      <td>-117.76</td>\n",
       "      <td>59696</td>\n",
       "      <td>127613</td>\n",
       "      <td>787</td>\n",
       "      <td>0</td>\n",
       "      <td>Visa</td>\n",
       "      <td>Debit</td>\n",
       "      <td>4344676511950444</td>\n",
       "      <td>1</td>\n",
       "      <td>2</td>\n",
       "      <td>24295</td>\n",
       "    </tr>\n",
       "  </tbody>\n",
       "</table>\n",
       "</div>"
      ],
      "text/plain": [
       "   Unnamed: 0        Date  Amount            Use Chip Merchant City  \\\n",
       "0           0  2015-11-15  287.13  Online Transaction        ONLINE   \n",
       "1           1  2015-11-15    2.41  Online Transaction        ONLINE   \n",
       "2           2  2015-11-16   50.81  Online Transaction        ONLINE   \n",
       "3           3  2015-11-16  248.36  Online Transaction        ONLINE   \n",
       "4           4  2015-11-16  473.00  Online Transaction        ONLINE   \n",
       "\n",
       "  Merchant State   MCC  Is Fraud?  Current Age  Gender  Latitude  Longitude  \\\n",
       "0         ONLINE  3001          1           53  Female     34.15    -117.76   \n",
       "1         ONLINE  5651          1           53  Female     34.15    -117.76   \n",
       "2         ONLINE  4411          1           53  Female     34.15    -117.76   \n",
       "3         ONLINE  5732          1           53  Female     34.15    -117.76   \n",
       "4         ONLINE  3640          1           53  Female     34.15    -117.76   \n",
       "\n",
       "   Yearly Income - Person  Total Debt  FICO Score  CARD INDEX Card Brand  \\\n",
       "0                   59696      127613         787           0       Visa   \n",
       "1                   59696      127613         787           0       Visa   \n",
       "2                   59696      127613         787           0       Visa   \n",
       "3                   59696      127613         787           0       Visa   \n",
       "4                   59696      127613         787           0       Visa   \n",
       "\n",
       "  Card Type       Card Number  Has Chip  Cards Issued  Credit Limit  \n",
       "0     Debit  4344676511950444         1             2         24295  \n",
       "1     Debit  4344676511950444         1             2         24295  \n",
       "2     Debit  4344676511950444         1             2         24295  \n",
       "3     Debit  4344676511950444         1             2         24295  \n",
       "4     Debit  4344676511950444         1             2         24295  "
      ]
     },
     "execution_count": 5,
     "metadata": {},
     "output_type": "execute_result"
    }
   ],
   "source": [
    "dd.head()"
   ]
  },
  {
   "cell_type": "code",
   "execution_count": null,
   "id": "c0761791-17fb-4a1e-8044-aec52f55242f",
   "metadata": {},
   "outputs": [],
   "source": []
  },
  {
   "cell_type": "code",
   "execution_count": 6,
   "id": "a1ae8ac1-a6c7-4f82-bf6f-150b9ee40b94",
   "metadata": {},
   "outputs": [],
   "source": [
    "ddf=dd[dd['Is Fraud?']==1]"
   ]
  },
  {
   "cell_type": "code",
   "execution_count": 7,
   "id": "1e9dd41c-b7c6-4b9d-afd7-3ae1465466e2",
   "metadata": {},
   "outputs": [
    {
     "data": {
      "text/plain": [
       "(29757, 22)"
      ]
     },
     "execution_count": 7,
     "metadata": {},
     "output_type": "execute_result"
    }
   ],
   "source": [
    "ddf.shape"
   ]
  },
  {
   "cell_type": "markdown",
   "id": "c1984f6d-7632-46bf-953e-9e48d97fdfc9",
   "metadata": {},
   "source": [
    "### Numerical_features"
   ]
  },
  {
   "cell_type": "code",
   "execution_count": 8,
   "id": "fa73cdf6-7513-40f5-9b9c-e9d0a7c14a93",
   "metadata": {},
   "outputs": [
    {
     "name": "stdout",
     "output_type": "stream",
     "text": [
      "Number of numerical variables:  15\n"
     ]
    },
    {
     "data": {
      "text/html": [
       "<div>\n",
       "<style scoped>\n",
       "    .dataframe tbody tr th:only-of-type {\n",
       "        vertical-align: middle;\n",
       "    }\n",
       "\n",
       "    .dataframe tbody tr th {\n",
       "        vertical-align: top;\n",
       "    }\n",
       "\n",
       "    .dataframe thead th {\n",
       "        text-align: right;\n",
       "    }\n",
       "</style>\n",
       "<table border=\"1\" class=\"dataframe\">\n",
       "  <thead>\n",
       "    <tr style=\"text-align: right;\">\n",
       "      <th></th>\n",
       "      <th>Unnamed: 0</th>\n",
       "      <th>Amount</th>\n",
       "      <th>MCC</th>\n",
       "      <th>Is Fraud?</th>\n",
       "      <th>Current Age</th>\n",
       "      <th>Latitude</th>\n",
       "      <th>Longitude</th>\n",
       "      <th>Yearly Income - Person</th>\n",
       "      <th>Total Debt</th>\n",
       "      <th>FICO Score</th>\n",
       "      <th>CARD INDEX</th>\n",
       "      <th>Card Number</th>\n",
       "      <th>Has Chip</th>\n",
       "      <th>Cards Issued</th>\n",
       "      <th>Credit Limit</th>\n",
       "    </tr>\n",
       "  </thead>\n",
       "  <tbody>\n",
       "    <tr>\n",
       "      <th>0</th>\n",
       "      <td>0</td>\n",
       "      <td>287.13</td>\n",
       "      <td>3001</td>\n",
       "      <td>1</td>\n",
       "      <td>53</td>\n",
       "      <td>34.15</td>\n",
       "      <td>-117.76</td>\n",
       "      <td>59696</td>\n",
       "      <td>127613</td>\n",
       "      <td>787</td>\n",
       "      <td>0</td>\n",
       "      <td>4344676511950444</td>\n",
       "      <td>1</td>\n",
       "      <td>2</td>\n",
       "      <td>24295</td>\n",
       "    </tr>\n",
       "    <tr>\n",
       "      <th>1</th>\n",
       "      <td>1</td>\n",
       "      <td>2.41</td>\n",
       "      <td>5651</td>\n",
       "      <td>1</td>\n",
       "      <td>53</td>\n",
       "      <td>34.15</td>\n",
       "      <td>-117.76</td>\n",
       "      <td>59696</td>\n",
       "      <td>127613</td>\n",
       "      <td>787</td>\n",
       "      <td>0</td>\n",
       "      <td>4344676511950444</td>\n",
       "      <td>1</td>\n",
       "      <td>2</td>\n",
       "      <td>24295</td>\n",
       "    </tr>\n",
       "    <tr>\n",
       "      <th>2</th>\n",
       "      <td>2</td>\n",
       "      <td>50.81</td>\n",
       "      <td>4411</td>\n",
       "      <td>1</td>\n",
       "      <td>53</td>\n",
       "      <td>34.15</td>\n",
       "      <td>-117.76</td>\n",
       "      <td>59696</td>\n",
       "      <td>127613</td>\n",
       "      <td>787</td>\n",
       "      <td>0</td>\n",
       "      <td>4344676511950444</td>\n",
       "      <td>1</td>\n",
       "      <td>2</td>\n",
       "      <td>24295</td>\n",
       "    </tr>\n",
       "    <tr>\n",
       "      <th>3</th>\n",
       "      <td>3</td>\n",
       "      <td>248.36</td>\n",
       "      <td>5732</td>\n",
       "      <td>1</td>\n",
       "      <td>53</td>\n",
       "      <td>34.15</td>\n",
       "      <td>-117.76</td>\n",
       "      <td>59696</td>\n",
       "      <td>127613</td>\n",
       "      <td>787</td>\n",
       "      <td>0</td>\n",
       "      <td>4344676511950444</td>\n",
       "      <td>1</td>\n",
       "      <td>2</td>\n",
       "      <td>24295</td>\n",
       "    </tr>\n",
       "    <tr>\n",
       "      <th>4</th>\n",
       "      <td>4</td>\n",
       "      <td>473.00</td>\n",
       "      <td>3640</td>\n",
       "      <td>1</td>\n",
       "      <td>53</td>\n",
       "      <td>34.15</td>\n",
       "      <td>-117.76</td>\n",
       "      <td>59696</td>\n",
       "      <td>127613</td>\n",
       "      <td>787</td>\n",
       "      <td>0</td>\n",
       "      <td>4344676511950444</td>\n",
       "      <td>1</td>\n",
       "      <td>2</td>\n",
       "      <td>24295</td>\n",
       "    </tr>\n",
       "  </tbody>\n",
       "</table>\n",
       "</div>"
      ],
      "text/plain": [
       "   Unnamed: 0  Amount   MCC  Is Fraud?  Current Age  Latitude  Longitude  \\\n",
       "0           0  287.13  3001          1           53     34.15    -117.76   \n",
       "1           1    2.41  5651          1           53     34.15    -117.76   \n",
       "2           2   50.81  4411          1           53     34.15    -117.76   \n",
       "3           3  248.36  5732          1           53     34.15    -117.76   \n",
       "4           4  473.00  3640          1           53     34.15    -117.76   \n",
       "\n",
       "   Yearly Income - Person  Total Debt  FICO Score  CARD INDEX  \\\n",
       "0                   59696      127613         787           0   \n",
       "1                   59696      127613         787           0   \n",
       "2                   59696      127613         787           0   \n",
       "3                   59696      127613         787           0   \n",
       "4                   59696      127613         787           0   \n",
       "\n",
       "        Card Number  Has Chip  Cards Issued  Credit Limit  \n",
       "0  4344676511950444         1             2         24295  \n",
       "1  4344676511950444         1             2         24295  \n",
       "2  4344676511950444         1             2         24295  \n",
       "3  4344676511950444         1             2         24295  \n",
       "4  4344676511950444         1             2         24295  "
      ]
     },
     "execution_count": 8,
     "metadata": {},
     "output_type": "execute_result"
    }
   ],
   "source": [
    "numerical_features = [feature for feature in dd.columns if dd[feature].dtypes != 'O']\n",
    "print('Number of numerical variables: ', len(numerical_features))\n",
    "dd[numerical_features].head()"
   ]
  },
  {
   "cell_type": "code",
   "execution_count": 9,
   "id": "8e66702a-ff39-46cd-8518-2f3c14d8b622",
   "metadata": {},
   "outputs": [],
   "source": [
    "vif1=dd[dd[numerical_features].columns[dd[numerical_features].columns!='Is Fraud?']]"
   ]
  },
  {
   "cell_type": "code",
   "execution_count": 10,
   "id": "404257cc-b2dc-4f5f-8c34-eadaf9b349ae",
   "metadata": {},
   "outputs": [
    {
     "data": {
      "text/html": [
       "<div>\n",
       "<style scoped>\n",
       "    .dataframe tbody tr th:only-of-type {\n",
       "        vertical-align: middle;\n",
       "    }\n",
       "\n",
       "    .dataframe tbody tr th {\n",
       "        vertical-align: top;\n",
       "    }\n",
       "\n",
       "    .dataframe thead th {\n",
       "        text-align: right;\n",
       "    }\n",
       "</style>\n",
       "<table border=\"1\" class=\"dataframe\">\n",
       "  <thead>\n",
       "    <tr style=\"text-align: right;\">\n",
       "      <th></th>\n",
       "      <th>Unnamed: 0</th>\n",
       "      <th>Amount</th>\n",
       "      <th>MCC</th>\n",
       "      <th>Current Age</th>\n",
       "      <th>Latitude</th>\n",
       "      <th>Longitude</th>\n",
       "      <th>Yearly Income - Person</th>\n",
       "      <th>Total Debt</th>\n",
       "      <th>FICO Score</th>\n",
       "      <th>CARD INDEX</th>\n",
       "      <th>Card Number</th>\n",
       "      <th>Has Chip</th>\n",
       "      <th>Cards Issued</th>\n",
       "      <th>Credit Limit</th>\n",
       "    </tr>\n",
       "  </thead>\n",
       "  <tbody>\n",
       "    <tr>\n",
       "      <th>0</th>\n",
       "      <td>0</td>\n",
       "      <td>287.13</td>\n",
       "      <td>3001</td>\n",
       "      <td>53</td>\n",
       "      <td>34.15</td>\n",
       "      <td>-117.76</td>\n",
       "      <td>59696</td>\n",
       "      <td>127613</td>\n",
       "      <td>787</td>\n",
       "      <td>0</td>\n",
       "      <td>4344676511950444</td>\n",
       "      <td>1</td>\n",
       "      <td>2</td>\n",
       "      <td>24295</td>\n",
       "    </tr>\n",
       "    <tr>\n",
       "      <th>1</th>\n",
       "      <td>1</td>\n",
       "      <td>2.41</td>\n",
       "      <td>5651</td>\n",
       "      <td>53</td>\n",
       "      <td>34.15</td>\n",
       "      <td>-117.76</td>\n",
       "      <td>59696</td>\n",
       "      <td>127613</td>\n",
       "      <td>787</td>\n",
       "      <td>0</td>\n",
       "      <td>4344676511950444</td>\n",
       "      <td>1</td>\n",
       "      <td>2</td>\n",
       "      <td>24295</td>\n",
       "    </tr>\n",
       "    <tr>\n",
       "      <th>2</th>\n",
       "      <td>2</td>\n",
       "      <td>50.81</td>\n",
       "      <td>4411</td>\n",
       "      <td>53</td>\n",
       "      <td>34.15</td>\n",
       "      <td>-117.76</td>\n",
       "      <td>59696</td>\n",
       "      <td>127613</td>\n",
       "      <td>787</td>\n",
       "      <td>0</td>\n",
       "      <td>4344676511950444</td>\n",
       "      <td>1</td>\n",
       "      <td>2</td>\n",
       "      <td>24295</td>\n",
       "    </tr>\n",
       "    <tr>\n",
       "      <th>3</th>\n",
       "      <td>3</td>\n",
       "      <td>248.36</td>\n",
       "      <td>5732</td>\n",
       "      <td>53</td>\n",
       "      <td>34.15</td>\n",
       "      <td>-117.76</td>\n",
       "      <td>59696</td>\n",
       "      <td>127613</td>\n",
       "      <td>787</td>\n",
       "      <td>0</td>\n",
       "      <td>4344676511950444</td>\n",
       "      <td>1</td>\n",
       "      <td>2</td>\n",
       "      <td>24295</td>\n",
       "    </tr>\n",
       "    <tr>\n",
       "      <th>4</th>\n",
       "      <td>4</td>\n",
       "      <td>473.00</td>\n",
       "      <td>3640</td>\n",
       "      <td>53</td>\n",
       "      <td>34.15</td>\n",
       "      <td>-117.76</td>\n",
       "      <td>59696</td>\n",
       "      <td>127613</td>\n",
       "      <td>787</td>\n",
       "      <td>0</td>\n",
       "      <td>4344676511950444</td>\n",
       "      <td>1</td>\n",
       "      <td>2</td>\n",
       "      <td>24295</td>\n",
       "    </tr>\n",
       "  </tbody>\n",
       "</table>\n",
       "</div>"
      ],
      "text/plain": [
       "   Unnamed: 0  Amount   MCC  Current Age  Latitude  Longitude  \\\n",
       "0           0  287.13  3001           53     34.15    -117.76   \n",
       "1           1    2.41  5651           53     34.15    -117.76   \n",
       "2           2   50.81  4411           53     34.15    -117.76   \n",
       "3           3  248.36  5732           53     34.15    -117.76   \n",
       "4           4  473.00  3640           53     34.15    -117.76   \n",
       "\n",
       "   Yearly Income - Person  Total Debt  FICO Score  CARD INDEX  \\\n",
       "0                   59696      127613         787           0   \n",
       "1                   59696      127613         787           0   \n",
       "2                   59696      127613         787           0   \n",
       "3                   59696      127613         787           0   \n",
       "4                   59696      127613         787           0   \n",
       "\n",
       "        Card Number  Has Chip  Cards Issued  Credit Limit  \n",
       "0  4344676511950444         1             2         24295  \n",
       "1  4344676511950444         1             2         24295  \n",
       "2  4344676511950444         1             2         24295  \n",
       "3  4344676511950444         1             2         24295  \n",
       "4  4344676511950444         1             2         24295  "
      ]
     },
     "execution_count": 10,
     "metadata": {},
     "output_type": "execute_result"
    }
   ],
   "source": [
    "vif1.head()"
   ]
  },
  {
   "cell_type": "code",
   "execution_count": 11,
   "id": "a7b3a60a-23af-496d-b173-2c5b54ab6a23",
   "metadata": {},
   "outputs": [],
   "source": [
    "from statsmodels.stats.outliers_influence import variance_inflation_factor "
   ]
  },
  {
   "cell_type": "code",
   "execution_count": 12,
   "id": "dee083ae-e9c6-4012-9a14-461e13f4ca41",
   "metadata": {},
   "outputs": [
    {
     "name": "stdout",
     "output_type": "stream",
     "text": [
      "                   feature        VIF\n",
      "0               Unnamed: 0   1.058041\n",
      "1                   Amount   1.034429\n",
      "2                      MCC   0.926985\n",
      "3              Current Age   1.126478\n",
      "4                 Latitude   0.842669\n",
      "5                Longitude   0.883011\n",
      "6   Yearly Income - Person   1.685595\n",
      "7               Total Debt   1.514079\n",
      "8               FICO Score   0.594029\n",
      "9               CARD INDEX   1.075275\n",
      "10             Card Number  13.195119\n",
      "11                Has Chip   0.971795\n",
      "12            Cards Issued   0.962702\n",
      "13            Credit Limit   1.346188\n"
     ]
    }
   ],
   "source": [
    "vif_data = pd.DataFrame()\n",
    "vif_data[\"feature\"] = vif1.columns\n",
    "  \n",
    "# calculating VIF for each feature\n",
    "vif_data[\"VIF\"] = [variance_inflation_factor(vif1.values, i)\n",
    "                          for i in range(len(vif1.columns))]\n",
    "  \n",
    "print(vif_data)"
   ]
  },
  {
   "cell_type": "code",
   "execution_count": null,
   "id": "7426877f-8794-4517-91fd-8167315790d0",
   "metadata": {},
   "outputs": [],
   "source": []
  },
  {
   "cell_type": "code",
   "execution_count": 13,
   "id": "e5f9159d-b4d3-4bd2-ab2b-e087f9d599d0",
   "metadata": {
    "scrolled": true
   },
   "outputs": [
    {
     "data": {
      "text/html": [
       "<div>\n",
       "<style scoped>\n",
       "    .dataframe tbody tr th:only-of-type {\n",
       "        vertical-align: middle;\n",
       "    }\n",
       "\n",
       "    .dataframe tbody tr th {\n",
       "        vertical-align: top;\n",
       "    }\n",
       "\n",
       "    .dataframe thead th {\n",
       "        text-align: right;\n",
       "    }\n",
       "</style>\n",
       "<table border=\"1\" class=\"dataframe\">\n",
       "  <thead>\n",
       "    <tr style=\"text-align: right;\">\n",
       "      <th></th>\n",
       "      <th>Is Fraud?</th>\n",
       "    </tr>\n",
       "  </thead>\n",
       "  <tbody>\n",
       "    <tr>\n",
       "      <th>Unnamed: 0</th>\n",
       "      <td>-8.660254e-01</td>\n",
       "    </tr>\n",
       "    <tr>\n",
       "      <th>Amount</th>\n",
       "      <td>2.026509e-01</td>\n",
       "    </tr>\n",
       "    <tr>\n",
       "      <th>MCC</th>\n",
       "      <td>-1.848221e-01</td>\n",
       "    </tr>\n",
       "    <tr>\n",
       "      <th>Is Fraud?</th>\n",
       "      <td>1.000000e+00</td>\n",
       "    </tr>\n",
       "    <tr>\n",
       "      <th>Current Age</th>\n",
       "      <td>-2.294331e-15</td>\n",
       "    </tr>\n",
       "    <tr>\n",
       "      <th>Latitude</th>\n",
       "      <td>2.101924e-14</td>\n",
       "    </tr>\n",
       "    <tr>\n",
       "      <th>Longitude</th>\n",
       "      <td>-7.624976e-15</td>\n",
       "    </tr>\n",
       "    <tr>\n",
       "      <th>Yearly Income - Person</th>\n",
       "      <td>-2.743730e-15</td>\n",
       "    </tr>\n",
       "    <tr>\n",
       "      <th>Total Debt</th>\n",
       "      <td>6.189690e-15</td>\n",
       "    </tr>\n",
       "    <tr>\n",
       "      <th>FICO Score</th>\n",
       "      <td>-5.640209e-14</td>\n",
       "    </tr>\n",
       "    <tr>\n",
       "      <th>CARD INDEX</th>\n",
       "      <td>2.350275e-15</td>\n",
       "    </tr>\n",
       "    <tr>\n",
       "      <th>Card Number</th>\n",
       "      <td>-8.602248e-16</td>\n",
       "    </tr>\n",
       "    <tr>\n",
       "      <th>Has Chip</th>\n",
       "      <td>1.957570e-15</td>\n",
       "    </tr>\n",
       "    <tr>\n",
       "      <th>Cards Issued</th>\n",
       "      <td>4.206640e-16</td>\n",
       "    </tr>\n",
       "    <tr>\n",
       "      <th>Credit Limit</th>\n",
       "      <td>-2.536710e-15</td>\n",
       "    </tr>\n",
       "  </tbody>\n",
       "</table>\n",
       "</div>"
      ],
      "text/plain": [
       "                           Is Fraud?\n",
       "Unnamed: 0             -8.660254e-01\n",
       "Amount                  2.026509e-01\n",
       "MCC                    -1.848221e-01\n",
       "Is Fraud?               1.000000e+00\n",
       "Current Age            -2.294331e-15\n",
       "Latitude                2.101924e-14\n",
       "Longitude              -7.624976e-15\n",
       "Yearly Income - Person -2.743730e-15\n",
       "Total Debt              6.189690e-15\n",
       "FICO Score             -5.640209e-14\n",
       "CARD INDEX              2.350275e-15\n",
       "Card Number            -8.602248e-16\n",
       "Has Chip                1.957570e-15\n",
       "Cards Issued            4.206640e-16\n",
       "Credit Limit           -2.536710e-15"
      ]
     },
     "execution_count": 13,
     "metadata": {},
     "output_type": "execute_result"
    }
   ],
   "source": [
    "dd[numerical_features].corr()[['Is Fraud?']]"
   ]
  },
  {
   "cell_type": "code",
   "execution_count": null,
   "id": "d7aa95e9-1d5c-4e36-916d-48231489e620",
   "metadata": {},
   "outputs": [],
   "source": []
  },
  {
   "cell_type": "markdown",
   "id": "d3eaa434-61c2-44f6-8f4a-817738a8aec3",
   "metadata": {},
   "source": [
    "### Multi colinearity occurs b/w Per Capita Income - Zipcode & Yearly Income - Person. So, removing one of the colunmn"
   ]
  },
  {
   "cell_type": "code",
   "execution_count": 14,
   "id": "4d3163e3-493b-4ba3-bc28-ff028e0acebc",
   "metadata": {},
   "outputs": [
    {
     "ename": "KeyError",
     "evalue": "'Per Capita Income - Zipcode'",
     "output_type": "error",
     "traceback": [
      "\u001b[1;31m---------------------------------------------------------------------------\u001b[0m",
      "\u001b[1;31mKeyError\u001b[0m                                  Traceback (most recent call last)",
      "File \u001b[1;32mc:\\Users\\bharath.venkatesan\\AppData\\Local\\Programs\\Python\\Python312\\Lib\\site-packages\\pandas\\core\\indexes\\base.py:3805\u001b[0m, in \u001b[0;36mIndex.get_loc\u001b[1;34m(self, key)\u001b[0m\n\u001b[0;32m   3804\u001b[0m \u001b[38;5;28;01mtry\u001b[39;00m:\n\u001b[1;32m-> 3805\u001b[0m     \u001b[38;5;28;01mreturn\u001b[39;00m \u001b[38;5;28;43mself\u001b[39;49m\u001b[38;5;241;43m.\u001b[39;49m\u001b[43m_engine\u001b[49m\u001b[38;5;241;43m.\u001b[39;49m\u001b[43mget_loc\u001b[49m\u001b[43m(\u001b[49m\u001b[43mcasted_key\u001b[49m\u001b[43m)\u001b[49m\n\u001b[0;32m   3806\u001b[0m \u001b[38;5;28;01mexcept\u001b[39;00m \u001b[38;5;167;01mKeyError\u001b[39;00m \u001b[38;5;28;01mas\u001b[39;00m err:\n",
      "File \u001b[1;32mindex.pyx:167\u001b[0m, in \u001b[0;36mpandas._libs.index.IndexEngine.get_loc\u001b[1;34m()\u001b[0m\n",
      "File \u001b[1;32mindex.pyx:196\u001b[0m, in \u001b[0;36mpandas._libs.index.IndexEngine.get_loc\u001b[1;34m()\u001b[0m\n",
      "File \u001b[1;32mpandas\\\\_libs\\\\hashtable_class_helper.pxi:7081\u001b[0m, in \u001b[0;36mpandas._libs.hashtable.PyObjectHashTable.get_item\u001b[1;34m()\u001b[0m\n",
      "File \u001b[1;32mpandas\\\\_libs\\\\hashtable_class_helper.pxi:7089\u001b[0m, in \u001b[0;36mpandas._libs.hashtable.PyObjectHashTable.get_item\u001b[1;34m()\u001b[0m\n",
      "\u001b[1;31mKeyError\u001b[0m: 'Per Capita Income - Zipcode'",
      "\nThe above exception was the direct cause of the following exception:\n",
      "\u001b[1;31mKeyError\u001b[0m                                  Traceback (most recent call last)",
      "Cell \u001b[1;32mIn[14], line 1\u001b[0m\n\u001b[1;32m----> 1\u001b[0m \u001b[38;5;28;01mdel\u001b[39;00m \u001b[43mdd\u001b[49m\u001b[43m[\u001b[49m\u001b[38;5;124;43m'\u001b[39;49m\u001b[38;5;124;43mPer Capita Income - Zipcode\u001b[39;49m\u001b[38;5;124;43m'\u001b[39;49m\u001b[43m]\u001b[49m\n",
      "File \u001b[1;32mc:\\Users\\bharath.venkatesan\\AppData\\Local\\Programs\\Python\\Python312\\Lib\\site-packages\\pandas\\core\\generic.py:4506\u001b[0m, in \u001b[0;36mNDFrame.__delitem__\u001b[1;34m(self, key)\u001b[0m\n\u001b[0;32m   4501\u001b[0m             deleted \u001b[38;5;241m=\u001b[39m \u001b[38;5;28;01mTrue\u001b[39;00m\n\u001b[0;32m   4502\u001b[0m \u001b[38;5;28;01mif\u001b[39;00m \u001b[38;5;129;01mnot\u001b[39;00m deleted:\n\u001b[0;32m   4503\u001b[0m     \u001b[38;5;66;03m# If the above loop ran and didn't delete anything because\u001b[39;00m\n\u001b[0;32m   4504\u001b[0m     \u001b[38;5;66;03m# there was no match, this call should raise the appropriate\u001b[39;00m\n\u001b[0;32m   4505\u001b[0m     \u001b[38;5;66;03m# exception:\u001b[39;00m\n\u001b[1;32m-> 4506\u001b[0m     loc \u001b[38;5;241m=\u001b[39m \u001b[38;5;28;43mself\u001b[39;49m\u001b[38;5;241;43m.\u001b[39;49m\u001b[43maxes\u001b[49m\u001b[43m[\u001b[49m\u001b[38;5;241;43m-\u001b[39;49m\u001b[38;5;241;43m1\u001b[39;49m\u001b[43m]\u001b[49m\u001b[38;5;241;43m.\u001b[39;49m\u001b[43mget_loc\u001b[49m\u001b[43m(\u001b[49m\u001b[43mkey\u001b[49m\u001b[43m)\u001b[49m\n\u001b[0;32m   4507\u001b[0m     \u001b[38;5;28mself\u001b[39m\u001b[38;5;241m.\u001b[39m_mgr \u001b[38;5;241m=\u001b[39m \u001b[38;5;28mself\u001b[39m\u001b[38;5;241m.\u001b[39m_mgr\u001b[38;5;241m.\u001b[39midelete(loc)\n\u001b[0;32m   4509\u001b[0m \u001b[38;5;66;03m# delete from the caches\u001b[39;00m\n",
      "File \u001b[1;32mc:\\Users\\bharath.venkatesan\\AppData\\Local\\Programs\\Python\\Python312\\Lib\\site-packages\\pandas\\core\\indexes\\base.py:3812\u001b[0m, in \u001b[0;36mIndex.get_loc\u001b[1;34m(self, key)\u001b[0m\n\u001b[0;32m   3807\u001b[0m     \u001b[38;5;28;01mif\u001b[39;00m \u001b[38;5;28misinstance\u001b[39m(casted_key, \u001b[38;5;28mslice\u001b[39m) \u001b[38;5;129;01mor\u001b[39;00m (\n\u001b[0;32m   3808\u001b[0m         \u001b[38;5;28misinstance\u001b[39m(casted_key, abc\u001b[38;5;241m.\u001b[39mIterable)\n\u001b[0;32m   3809\u001b[0m         \u001b[38;5;129;01mand\u001b[39;00m \u001b[38;5;28many\u001b[39m(\u001b[38;5;28misinstance\u001b[39m(x, \u001b[38;5;28mslice\u001b[39m) \u001b[38;5;28;01mfor\u001b[39;00m x \u001b[38;5;129;01min\u001b[39;00m casted_key)\n\u001b[0;32m   3810\u001b[0m     ):\n\u001b[0;32m   3811\u001b[0m         \u001b[38;5;28;01mraise\u001b[39;00m InvalidIndexError(key)\n\u001b[1;32m-> 3812\u001b[0m     \u001b[38;5;28;01mraise\u001b[39;00m \u001b[38;5;167;01mKeyError\u001b[39;00m(key) \u001b[38;5;28;01mfrom\u001b[39;00m \u001b[38;5;21;01merr\u001b[39;00m\n\u001b[0;32m   3813\u001b[0m \u001b[38;5;28;01mexcept\u001b[39;00m \u001b[38;5;167;01mTypeError\u001b[39;00m:\n\u001b[0;32m   3814\u001b[0m     \u001b[38;5;66;03m# If we have a listlike key, _check_indexing_error will raise\u001b[39;00m\n\u001b[0;32m   3815\u001b[0m     \u001b[38;5;66;03m#  InvalidIndexError. Otherwise we fall through and re-raise\u001b[39;00m\n\u001b[0;32m   3816\u001b[0m     \u001b[38;5;66;03m#  the TypeError.\u001b[39;00m\n\u001b[0;32m   3817\u001b[0m     \u001b[38;5;28mself\u001b[39m\u001b[38;5;241m.\u001b[39m_check_indexing_error(key)\n",
      "\u001b[1;31mKeyError\u001b[0m: 'Per Capita Income - Zipcode'"
     ]
    }
   ],
   "source": [
    "del dd['Per Capita Income - Zipcode']"
   ]
  },
  {
   "cell_type": "code",
   "execution_count": 17,
   "id": "a2f4c3d4-753e-4460-97cc-94e030055670",
   "metadata": {},
   "outputs": [],
   "source": [
    "dd.drop(['Cards Issued','Total Debt'],axis=1,inplace=True)"
   ]
  },
  {
   "cell_type": "code",
   "execution_count": 18,
   "id": "b66d0172-6c93-4974-b9ff-ca82a1961e1f",
   "metadata": {},
   "outputs": [
    {
     "data": {
      "text/plain": [
       "(59514, 20)"
      ]
     },
     "execution_count": 18,
     "metadata": {},
     "output_type": "execute_result"
    }
   ],
   "source": [
    "dd.shape"
   ]
  },
  {
   "cell_type": "markdown",
   "id": "f49c7f1f-c2ac-4518-b6e7-e8692f926943",
   "metadata": {},
   "source": [
    "### categorical_features"
   ]
  },
  {
   "cell_type": "code",
   "execution_count": 19,
   "id": "be4427eb-7afd-4af2-9164-31e213182dd2",
   "metadata": {},
   "outputs": [],
   "source": [
    "categorical_features=[feature for feature in dd.columns if dd[feature].dtype=='O']\n",
    "cat=dd[dd[categorical_features].columns[dd[categorical_features].columns!='Date']]"
   ]
  },
  {
   "cell_type": "code",
   "execution_count": 20,
   "id": "11535313-c590-44c0-97e7-3f5d23d240b8",
   "metadata": {},
   "outputs": [
    {
     "data": {
      "text/plain": [
       "Index(['Use Chip', 'Merchant City', 'Merchant State', 'Gender', 'Card Brand',\n",
       "       'Card Type'],\n",
       "      dtype='object')"
      ]
     },
     "execution_count": 20,
     "metadata": {},
     "output_type": "execute_result"
    }
   ],
   "source": [
    "cat.columns"
   ]
  },
  {
   "cell_type": "code",
   "execution_count": 21,
   "id": "7a4f87b2-8f7a-45c0-8d61-68d16c43c185",
   "metadata": {},
   "outputs": [],
   "source": [
    "from sklearn.datasets import load_digits\n",
    "from sklearn.feature_selection import SelectKBest, chi2"
   ]
  },
  {
   "cell_type": "code",
   "execution_count": 23,
   "id": "cc511135-5a60-480e-bbe2-d6a97e6d279b",
   "metadata": {},
   "outputs": [
    {
     "data": {
      "text/plain": [
       "{'Use Chip and fraud': (np.float64(18125.55531588349),\n",
       "  np.float64(0.0),\n",
       "  np.True_),\n",
       " 'Merchant City and fraud': (np.float64(41374.03717119187),\n",
       "  np.float64(0.0),\n",
       "  np.True_),\n",
       " 'Merchant State and fraud': (np.float64(33661.829964430144),\n",
       "  np.float64(0.0),\n",
       "  np.True_),\n",
       " 'Card Brand and fraud': (np.float64(0.0), np.float64(1.0), np.False_),\n",
       " 'gender and fraud': (np.float64(0.0), np.float64(1.0), np.False_)}"
      ]
     },
     "execution_count": 23,
     "metadata": {},
     "output_type": "execute_result"
    }
   ],
   "source": [
    "from scipy.stats import chi2_contingency\n",
    "# Defining a function to perform the Chi-Square Test and interpret results\n",
    "def perform_chi_square_test(data, col1, col2):\n",
    "    # Creating a contingency table\n",
    "    contingency_table = pd.crosstab(data[col1], data[col2])\n",
    " \n",
    "    # Performing the Chi-Square Test\n",
    "    chi2, p, dof, expected = chi2_contingency(contingency_table)\n",
    " \n",
    "    # Interpreting the result\n",
    "    significant = p < 0.05  # 5% significance level\n",
    "    return chi2, p, significant\n",
    " \n",
    "# Additional aspects to test in the Mathematics dataset\n",
    "additional_aspects_to_test = {\n",
    "    'Use Chip and fraud': ('Use Chip', 'Is Fraud?'),\n",
    "    'Merchant City and fraud': ('Merchant City', 'Is Fraud?'),\n",
    "    'Merchant State and fraud': ('Merchant State', 'Is Fraud?'),\n",
    "    'Card Brand and fraud': ('Card Brand', 'Is Fraud?'),\n",
    "    'gender and fraud': ('Gender', 'Is Fraud?')\n",
    "    \n",
    "}\n",
    "# Performing the additional tests for Mathematics dataset\n",
    "additional_mat_chi_square_results = {aspect: perform_chi_square_test(dd, *columns) for aspect, columns in additional_aspects_to_test.items()}\n",
    "additional_mat_chi_square_results"
   ]
  },
  {
   "cell_type": "markdown",
   "id": "11442770-56ec-4a7a-909b-cdaf1aaa636e",
   "metadata": {},
   "source": [
    "### Gender Analysis"
   ]
  },
  {
   "cell_type": "code",
   "execution_count": 24,
   "id": "fd39d062-3101-482d-b0a4-3427243c700a",
   "metadata": {},
   "outputs": [
    {
     "data": {
      "text/plain": [
       "Gender\n",
       "Female    15614\n",
       "Male      14143\n",
       "Name: count, dtype: int64"
      ]
     },
     "execution_count": 24,
     "metadata": {},
     "output_type": "execute_result"
    }
   ],
   "source": [
    "ddf['Gender'].value_counts()"
   ]
  },
  {
   "cell_type": "code",
   "execution_count": 25,
   "id": "dad7648d-695a-4d75-b708-c9a6bfc113a0",
   "metadata": {},
   "outputs": [
    {
     "data": {
      "text/html": [
       "<div>\n",
       "<style scoped>\n",
       "    .dataframe tbody tr th:only-of-type {\n",
       "        vertical-align: middle;\n",
       "    }\n",
       "\n",
       "    .dataframe tbody tr th {\n",
       "        vertical-align: top;\n",
       "    }\n",
       "\n",
       "    .dataframe thead th {\n",
       "        text-align: right;\n",
       "    }\n",
       "</style>\n",
       "<table border=\"1\" class=\"dataframe\">\n",
       "  <thead>\n",
       "    <tr style=\"text-align: right;\">\n",
       "      <th>Gender</th>\n",
       "      <th>Female</th>\n",
       "      <th>Male</th>\n",
       "    </tr>\n",
       "    <tr>\n",
       "      <th>Is Fraud?</th>\n",
       "      <th></th>\n",
       "      <th></th>\n",
       "    </tr>\n",
       "  </thead>\n",
       "  <tbody>\n",
       "    <tr>\n",
       "      <th>0</th>\n",
       "      <td>15614</td>\n",
       "      <td>14143</td>\n",
       "    </tr>\n",
       "    <tr>\n",
       "      <th>1</th>\n",
       "      <td>15614</td>\n",
       "      <td>14143</td>\n",
       "    </tr>\n",
       "  </tbody>\n",
       "</table>\n",
       "</div>"
      ],
      "text/plain": [
       "Gender     Female   Male\n",
       "Is Fraud?               \n",
       "0           15614  14143\n",
       "1           15614  14143"
      ]
     },
     "execution_count": 25,
     "metadata": {},
     "output_type": "execute_result"
    }
   ],
   "source": [
    "cross_tab = pd.crosstab(dd_copy['Is Fraud?'], dd_copy['Gender'])\n",
    "cross_tab"
   ]
  },
  {
   "cell_type": "code",
   "execution_count": 26,
   "id": "63fd72aa-9026-4190-aac4-7d9b0bc5b019",
   "metadata": {},
   "outputs": [
    {
     "data": {
      "text/plain": [
       "Gender\n",
       "Female    31228\n",
       "Male      28286\n",
       "Name: count, dtype: int64"
      ]
     },
     "execution_count": 26,
     "metadata": {},
     "output_type": "execute_result"
    }
   ],
   "source": [
    "dd['Gender'].value_counts()"
   ]
  },
  {
   "cell_type": "code",
   "execution_count": 27,
   "id": "21386254-56ef-437d-a624-30c40c097aad",
   "metadata": {},
   "outputs": [],
   "source": [
    "del dd['Gender']"
   ]
  },
  {
   "cell_type": "code",
   "execution_count": 28,
   "id": "b4848d4b-b4a2-4c09-be06-09b6b37fd850",
   "metadata": {},
   "outputs": [
    {
     "data": {
      "text/plain": [
       "(59514, 19)"
      ]
     },
     "execution_count": 28,
     "metadata": {},
     "output_type": "execute_result"
    }
   ],
   "source": [
    "dd.shape"
   ]
  },
  {
   "cell_type": "code",
   "execution_count": 29,
   "id": "44e49b7a-df37-4d79-b6df-8bab20fc2735",
   "metadata": {},
   "outputs": [
    {
     "data": {
      "text/plain": [
       "Index(['Unnamed: 0', 'Date', 'Amount', 'Use Chip', 'Merchant City',\n",
       "       'Merchant State', 'MCC', 'Is Fraud?', 'Current Age', 'Latitude',\n",
       "       'Longitude', 'Yearly Income - Person', 'FICO Score', 'CARD INDEX',\n",
       "       'Card Brand', 'Card Type', 'Card Number', 'Has Chip', 'Credit Limit'],\n",
       "      dtype='object')"
      ]
     },
     "execution_count": 29,
     "metadata": {},
     "output_type": "execute_result"
    }
   ],
   "source": [
    "dd.columns"
   ]
  },
  {
   "cell_type": "code",
   "execution_count": 30,
   "id": "205d054d-fd09-4a17-ab37-265dd0457584",
   "metadata": {},
   "outputs": [],
   "source": [
    "del dd['Date']"
   ]
  },
  {
   "cell_type": "code",
   "execution_count": 31,
   "id": "914081c7-2d17-4395-899b-743e21e58e0c",
   "metadata": {},
   "outputs": [
    {
     "data": {
      "text/plain": [
       "(59514, 18)"
      ]
     },
     "execution_count": 31,
     "metadata": {},
     "output_type": "execute_result"
    }
   ],
   "source": [
    "dd.shape"
   ]
  },
  {
   "cell_type": "code",
   "execution_count": 34,
   "id": "ff38dc68",
   "metadata": {},
   "outputs": [],
   "source": [
    "le = LabelEncoder()\n",
    "dd['Card Type'] = le.fit_transform(dd['Card Type'])"
   ]
  },
  {
   "cell_type": "code",
   "execution_count": 37,
   "id": "f0d2ab22-4abf-4d88-b859-758d7c8c11cd",
   "metadata": {},
   "outputs": [],
   "source": [
    "#dd.to_csv(r'D:\\ccfd\\IBM2.csv',index=False)\n",
    "dd.to_csv(r'training_data_1.csv',index=False)"
   ]
  },
  {
   "cell_type": "code",
   "execution_count": null,
   "id": "e99fc72f-c433-4cae-846a-82c5c9b94183",
   "metadata": {},
   "outputs": [],
   "source": []
  }
 ],
 "metadata": {
  "kernelspec": {
   "display_name": "Python 3",
   "language": "python",
   "name": "python3"
  },
  "language_info": {
   "codemirror_mode": {
    "name": "ipython",
    "version": 3
   },
   "file_extension": ".py",
   "mimetype": "text/x-python",
   "name": "python",
   "nbconvert_exporter": "python",
   "pygments_lexer": "ipython3",
   "version": "3.12.4"
  }
 },
 "nbformat": 4,
 "nbformat_minor": 5
}
