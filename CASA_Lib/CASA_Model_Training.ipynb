{
 "cells": [
  {
   "cell_type": "markdown",
   "id": "156f4bbb-1be6-4e26-8490-e2c6b7ed58b1",
   "metadata": {},
   "source": [
    "## Global Imports"
   ]
  },
  {
   "cell_type": "code",
   "execution_count": 1,
   "id": "73fca203-16e2-4da1-8a92-be959b659bf0",
   "metadata": {},
   "outputs": [],
   "source": [
    "import pandas as pd\n",
    "import numpy as np\n",
    "# import matplotlib.pyplot as plt\n",
    "%matplotlib inline\n",
    "import seaborn as sns\n",
    "\n",
    "pd.pandas.set_option('display.max_columns',None)\n",
    "pd.pandas.set_option('display.max_rows',None)\n",
    "\n",
    "import datetime as datetime\n",
    "\n",
    "\n",
    "import plotly.express as px\n",
    "import plotly.offline as py\n",
    "import plotly.graph_objs as go\n",
    "\n",
    "\n",
    "import matplotlib.pyplot as plt\n",
    "import calendar"
   ]
  },
  {
   "cell_type": "code",
   "execution_count": 2,
   "id": "ce56d074-cae4-418d-bf8b-f9d162194ec0",
   "metadata": {},
   "outputs": [],
   "source": [
    "from sklearn.preprocessing import LabelEncoder\n",
    "from sklearn.preprocessing import StandardScaler"
   ]
  },
  {
   "cell_type": "code",
   "execution_count": 3,
   "id": "00c2132e-9e6b-401b-b355-72294d4b225c",
   "metadata": {},
   "outputs": [],
   "source": [
    "import pickle"
   ]
  },
  {
   "cell_type": "code",
   "execution_count": 4,
   "id": "ae05a7ff-c04d-4445-8e2b-b4dd67fe0f0d",
   "metadata": {},
   "outputs": [],
   "source": [
    "data=pd.read_csv('training_data.csv')"
   ]
  },
  {
   "cell_type": "code",
   "execution_count": 5,
   "id": "d91e315c-71f1-4eaf-b93c-fcdc999db814",
   "metadata": {},
   "outputs": [
    {
     "data": {
      "text/plain": [
       "Index(['Unnamed: 0', 'Amount', 'Use Chip', 'Merchant City', 'Merchant State',\n",
       "       'MCC', 'Is Fraud?', 'Current Age', 'Latitude', 'Longitude',\n",
       "       'Yearly Income - Person', 'FICO Score', 'CARD INDEX', 'Card Brand',\n",
       "       'Card Type', 'Card Number', 'Has Chip', 'Credit Limit'],\n",
       "      dtype='object')"
      ]
     },
     "execution_count": 5,
     "metadata": {},
     "output_type": "execute_result"
    }
   ],
   "source": [
    "data.columns"
   ]
  },
  {
   "cell_type": "code",
   "execution_count": 6,
   "id": "0f9cadcb-1392-4571-b64f-bbcf3484c91e",
   "metadata": {},
   "outputs": [],
   "source": [
    "data=data.drop('Unnamed: 0',axis=1)"
   ]
  },
  {
   "cell_type": "code",
   "execution_count": 7,
   "id": "021d7596",
   "metadata": {},
   "outputs": [
    {
     "data": {
      "text/plain": [
       "Index(['Amount', 'Use Chip', 'Merchant City', 'Merchant State', 'MCC',\n",
       "       'Is Fraud?', 'Current Age', 'Latitude', 'Longitude',\n",
       "       'Yearly Income - Person', 'FICO Score', 'CARD INDEX', 'Card Brand',\n",
       "       'Card Type', 'Card Number', 'Has Chip', 'Credit Limit'],\n",
       "      dtype='object')"
      ]
     },
     "execution_count": 7,
     "metadata": {},
     "output_type": "execute_result"
    }
   ],
   "source": [
    "data.columns"
   ]
  },
  {
   "cell_type": "code",
   "execution_count": 8,
   "id": "cd90580b",
   "metadata": {},
   "outputs": [
    {
     "data": {
      "text/plain": [
       "(59514, 17)"
      ]
     },
     "execution_count": 8,
     "metadata": {},
     "output_type": "execute_result"
    }
   ],
   "source": [
    "data.shape"
   ]
  },
  {
   "cell_type": "markdown",
   "id": "413026a6-1431-4725-bd1d-2e4191ee38b9",
   "metadata": {},
   "source": [
    "## Split Train and Test data"
   ]
  },
  {
   "cell_type": "code",
   "execution_count": 9,
   "id": "3bf2620b-670f-4333-90bd-ed58984e5fe4",
   "metadata": {},
   "outputs": [],
   "source": [
    "from sklearn.model_selection import train_test_split\n",
    "train, test = train_test_split(data, test_size=0.3)"
   ]
  },
  {
   "cell_type": "code",
   "execution_count": 10,
   "id": "7f7b4e39-4b52-4df4-8522-64b2223686b6",
   "metadata": {},
   "outputs": [],
   "source": [
    "test_copy=test.copy()"
   ]
  },
  {
   "cell_type": "code",
   "execution_count": 11,
   "id": "94c0f29f-9c66-4bee-88cc-0ad48aeb7bb5",
   "metadata": {},
   "outputs": [
    {
     "data": {
      "text/plain": [
       "(17855, 17)"
      ]
     },
     "execution_count": 11,
     "metadata": {},
     "output_type": "execute_result"
    }
   ],
   "source": [
    "test.shape"
   ]
  },
  {
   "cell_type": "code",
   "execution_count": 12,
   "id": "26fe55a8-cd02-43eb-8ebb-c10b9b9590cf",
   "metadata": {},
   "outputs": [
    {
     "data": {
      "text/plain": [
       "4075"
      ]
     },
     "execution_count": 12,
     "metadata": {},
     "output_type": "execute_result"
    }
   ],
   "source": [
    "data['Merchant City'].nunique()"
   ]
  },
  {
   "cell_type": "markdown",
   "id": "5f645bcd-38c5-4185-ac00-9253edee4025",
   "metadata": {},
   "source": [
    "## Train Data Prepartion"
   ]
  },
  {
   "cell_type": "code",
   "execution_count": 13,
   "id": "b4fc0067-482c-49e4-80ba-76de00c4de3a",
   "metadata": {},
   "outputs": [
    {
     "data": {
      "text/plain": [
       "Is Fraud?\n",
       "1    29757\n",
       "0    29757\n",
       "Name: count, dtype: int64"
      ]
     },
     "execution_count": 13,
     "metadata": {},
     "output_type": "execute_result"
    }
   ],
   "source": [
    "data['Is Fraud?'].value_counts()"
   ]
  },
  {
   "cell_type": "code",
   "execution_count": 14,
   "id": "02a2c97a-78ae-4c9f-a8b7-554158fe4171",
   "metadata": {},
   "outputs": [],
   "source": [
    "train_data=data.copy()"
   ]
  },
  {
   "cell_type": "code",
   "execution_count": 15,
   "id": "4cb0ef93-14e1-4786-be3b-d6674241250f",
   "metadata": {},
   "outputs": [
    {
     "data": {
      "text/plain": [
       "Index(['Amount', 'Use Chip', 'Merchant City', 'Merchant State', 'MCC',\n",
       "       'Is Fraud?', 'Current Age', 'Latitude', 'Longitude',\n",
       "       'Yearly Income - Person', 'FICO Score', 'CARD INDEX', 'Card Brand',\n",
       "       'Card Type', 'Card Number', 'Has Chip', 'Credit Limit'],\n",
       "      dtype='object')"
      ]
     },
     "execution_count": 15,
     "metadata": {},
     "output_type": "execute_result"
    }
   ],
   "source": [
    "train_data.columns"
   ]
  },
  {
   "cell_type": "code",
   "execution_count": 16,
   "id": "a0a92fcd",
   "metadata": {},
   "outputs": [
    {
     "name": "stdout",
     "output_type": "stream",
     "text": [
      "<class 'pandas.core.frame.DataFrame'>\n",
      "RangeIndex: 59514 entries, 0 to 59513\n",
      "Data columns (total 17 columns):\n",
      " #   Column                  Non-Null Count  Dtype  \n",
      "---  ------                  --------------  -----  \n",
      " 0   Amount                  59514 non-null  float64\n",
      " 1   Use Chip                59514 non-null  object \n",
      " 2   Merchant City           59514 non-null  object \n",
      " 3   Merchant State          59514 non-null  object \n",
      " 4   MCC                     59514 non-null  int64  \n",
      " 5   Is Fraud?               59514 non-null  int64  \n",
      " 6   Current Age             59514 non-null  int64  \n",
      " 7   Latitude                59514 non-null  float64\n",
      " 8   Longitude               59514 non-null  float64\n",
      " 9   Yearly Income - Person  59514 non-null  int64  \n",
      " 10  FICO Score              59514 non-null  int64  \n",
      " 11  CARD INDEX              59514 non-null  int64  \n",
      " 12  Card Brand              59514 non-null  object \n",
      " 13  Card Type               59514 non-null  object \n",
      " 14  Card Number             59514 non-null  int64  \n",
      " 15  Has Chip                59514 non-null  int64  \n",
      " 16  Credit Limit            59514 non-null  int64  \n",
      "dtypes: float64(3), int64(9), object(5)\n",
      "memory usage: 7.7+ MB\n"
     ]
    }
   ],
   "source": [
    "train_data.info()"
   ]
  },
  {
   "cell_type": "code",
   "execution_count": 17,
   "id": "e80fa415-bee1-4bab-ae39-8ea2d62db062",
   "metadata": {},
   "outputs": [
    {
     "data": {
      "text/plain": [
       "array(['Online Transaction', 'Chip Transaction', 'Swipe Transaction'],\n",
       "      dtype=object)"
      ]
     },
     "execution_count": 17,
     "metadata": {},
     "output_type": "execute_result"
    }
   ],
   "source": [
    "train_data['Use Chip'].unique()"
   ]
  },
  {
   "cell_type": "code",
   "execution_count": 18,
   "id": "3941efa1-a4f1-4b35-98b2-08cef1381689",
   "metadata": {},
   "outputs": [],
   "source": [
    "train_data['Use Chip']=train_data['Use Chip'].map({'Swipe Transaction':1, 'Chip Transaction':2, 'Online Transaction':3})\n",
    "\n",
    "train_data['Card Brand']=train_data['Card Brand'].map({'Visa':1, 'Amex':2, 'Mastercard':3, 'Discover':4})"
   ]
  },
  {
   "cell_type": "code",
   "execution_count": 19,
   "id": "888a2dc5-5bf4-4506-a69a-5d6146c6aafa",
   "metadata": {},
   "outputs": [
    {
     "data": {
      "text/plain": [
       "(59514, 17)"
      ]
     },
     "execution_count": 19,
     "metadata": {},
     "output_type": "execute_result"
    }
   ],
   "source": [
    "train_data.shape"
   ]
  },
  {
   "cell_type": "code",
   "execution_count": 20,
   "id": "24546303-47fa-431c-a15f-b88a054ff576",
   "metadata": {},
   "outputs": [],
   "source": [
    "label_encoder = LabelEncoder()\n",
    "columns_to_convert_in_string_to_int = ['Merchant City','Merchant State','Card Type']\n",
    "for col in columns_to_convert_in_string_to_int:\n",
    "    train_data [col] = label_encoder.fit_transform(train_data [col])\n",
    "    with open(r'training_data'+ col+'.pkl', 'wb') as file:\n",
    "        pickle.dump(label_encoder, file)\n",
    "columns_to_convert_in_int_to_float = ['Merchant City','Merchant State','Use Chip','MCC','Card Brand','Card Type','Card Number','Has Chip','Credit Limit','Current Age','Yearly Income - Person','FICO Score']\n",
    "for col in columns_to_convert_in_int_to_float:\n",
    "    train_data [col] = train_data [col].astype('float64')"
   ]
  },
  {
   "cell_type": "code",
   "execution_count": 21,
   "id": "b07195ca-0df6-40cc-97c7-4b5da642042c",
   "metadata": {},
   "outputs": [
    {
     "data": {
      "text/plain": [
       "(59514, 17)"
      ]
     },
     "execution_count": 21,
     "metadata": {},
     "output_type": "execute_result"
    }
   ],
   "source": [
    "train_data.shape"
   ]
  },
  {
   "cell_type": "code",
   "execution_count": 22,
   "id": "9a6a44c3-16d0-406b-b82c-acf709004960",
   "metadata": {},
   "outputs": [
    {
     "data": {
      "text/html": [
       "<div>\n",
       "<style scoped>\n",
       "    .dataframe tbody tr th:only-of-type {\n",
       "        vertical-align: middle;\n",
       "    }\n",
       "\n",
       "    .dataframe tbody tr th {\n",
       "        vertical-align: top;\n",
       "    }\n",
       "\n",
       "    .dataframe thead th {\n",
       "        text-align: right;\n",
       "    }\n",
       "</style>\n",
       "<table border=\"1\" class=\"dataframe\">\n",
       "  <thead>\n",
       "    <tr style=\"text-align: right;\">\n",
       "      <th></th>\n",
       "      <th>Amount</th>\n",
       "      <th>Use Chip</th>\n",
       "      <th>Merchant City</th>\n",
       "      <th>Merchant State</th>\n",
       "      <th>MCC</th>\n",
       "      <th>Is Fraud?</th>\n",
       "      <th>Current Age</th>\n",
       "      <th>Latitude</th>\n",
       "      <th>Longitude</th>\n",
       "      <th>Yearly Income - Person</th>\n",
       "      <th>FICO Score</th>\n",
       "      <th>CARD INDEX</th>\n",
       "      <th>Card Brand</th>\n",
       "      <th>Card Type</th>\n",
       "      <th>Card Number</th>\n",
       "      <th>Has Chip</th>\n",
       "      <th>Credit Limit</th>\n",
       "    </tr>\n",
       "  </thead>\n",
       "  <tbody>\n",
       "    <tr>\n",
       "      <th>0</th>\n",
       "      <td>287.13</td>\n",
       "      <td>3.0</td>\n",
       "      <td>2606.0</td>\n",
       "      <td>68.0</td>\n",
       "      <td>3001.0</td>\n",
       "      <td>1</td>\n",
       "      <td>53.0</td>\n",
       "      <td>34.15</td>\n",
       "      <td>-117.76</td>\n",
       "      <td>59696.0</td>\n",
       "      <td>787.0</td>\n",
       "      <td>0</td>\n",
       "      <td>1.0</td>\n",
       "      <td>1.0</td>\n",
       "      <td>4.344677e+15</td>\n",
       "      <td>1.0</td>\n",
       "      <td>24295.0</td>\n",
       "    </tr>\n",
       "    <tr>\n",
       "      <th>1</th>\n",
       "      <td>2.41</td>\n",
       "      <td>3.0</td>\n",
       "      <td>2606.0</td>\n",
       "      <td>68.0</td>\n",
       "      <td>5651.0</td>\n",
       "      <td>1</td>\n",
       "      <td>53.0</td>\n",
       "      <td>34.15</td>\n",
       "      <td>-117.76</td>\n",
       "      <td>59696.0</td>\n",
       "      <td>787.0</td>\n",
       "      <td>0</td>\n",
       "      <td>1.0</td>\n",
       "      <td>1.0</td>\n",
       "      <td>4.344677e+15</td>\n",
       "      <td>1.0</td>\n",
       "      <td>24295.0</td>\n",
       "    </tr>\n",
       "    <tr>\n",
       "      <th>2</th>\n",
       "      <td>50.81</td>\n",
       "      <td>3.0</td>\n",
       "      <td>2606.0</td>\n",
       "      <td>68.0</td>\n",
       "      <td>4411.0</td>\n",
       "      <td>1</td>\n",
       "      <td>53.0</td>\n",
       "      <td>34.15</td>\n",
       "      <td>-117.76</td>\n",
       "      <td>59696.0</td>\n",
       "      <td>787.0</td>\n",
       "      <td>0</td>\n",
       "      <td>1.0</td>\n",
       "      <td>1.0</td>\n",
       "      <td>4.344677e+15</td>\n",
       "      <td>1.0</td>\n",
       "      <td>24295.0</td>\n",
       "    </tr>\n",
       "    <tr>\n",
       "      <th>3</th>\n",
       "      <td>248.36</td>\n",
       "      <td>3.0</td>\n",
       "      <td>2606.0</td>\n",
       "      <td>68.0</td>\n",
       "      <td>5732.0</td>\n",
       "      <td>1</td>\n",
       "      <td>53.0</td>\n",
       "      <td>34.15</td>\n",
       "      <td>-117.76</td>\n",
       "      <td>59696.0</td>\n",
       "      <td>787.0</td>\n",
       "      <td>0</td>\n",
       "      <td>1.0</td>\n",
       "      <td>1.0</td>\n",
       "      <td>4.344677e+15</td>\n",
       "      <td>1.0</td>\n",
       "      <td>24295.0</td>\n",
       "    </tr>\n",
       "    <tr>\n",
       "      <th>4</th>\n",
       "      <td>473.00</td>\n",
       "      <td>3.0</td>\n",
       "      <td>2606.0</td>\n",
       "      <td>68.0</td>\n",
       "      <td>3640.0</td>\n",
       "      <td>1</td>\n",
       "      <td>53.0</td>\n",
       "      <td>34.15</td>\n",
       "      <td>-117.76</td>\n",
       "      <td>59696.0</td>\n",
       "      <td>787.0</td>\n",
       "      <td>0</td>\n",
       "      <td>1.0</td>\n",
       "      <td>1.0</td>\n",
       "      <td>4.344677e+15</td>\n",
       "      <td>1.0</td>\n",
       "      <td>24295.0</td>\n",
       "    </tr>\n",
       "  </tbody>\n",
       "</table>\n",
       "</div>"
      ],
      "text/plain": [
       "   Amount  Use Chip  Merchant City  Merchant State     MCC  Is Fraud?  \\\n",
       "0  287.13       3.0         2606.0            68.0  3001.0          1   \n",
       "1    2.41       3.0         2606.0            68.0  5651.0          1   \n",
       "2   50.81       3.0         2606.0            68.0  4411.0          1   \n",
       "3  248.36       3.0         2606.0            68.0  5732.0          1   \n",
       "4  473.00       3.0         2606.0            68.0  3640.0          1   \n",
       "\n",
       "   Current Age  Latitude  Longitude  Yearly Income - Person  FICO Score  \\\n",
       "0         53.0     34.15    -117.76                 59696.0       787.0   \n",
       "1         53.0     34.15    -117.76                 59696.0       787.0   \n",
       "2         53.0     34.15    -117.76                 59696.0       787.0   \n",
       "3         53.0     34.15    -117.76                 59696.0       787.0   \n",
       "4         53.0     34.15    -117.76                 59696.0       787.0   \n",
       "\n",
       "   CARD INDEX  Card Brand  Card Type   Card Number  Has Chip  Credit Limit  \n",
       "0           0         1.0        1.0  4.344677e+15       1.0       24295.0  \n",
       "1           0         1.0        1.0  4.344677e+15       1.0       24295.0  \n",
       "2           0         1.0        1.0  4.344677e+15       1.0       24295.0  \n",
       "3           0         1.0        1.0  4.344677e+15       1.0       24295.0  \n",
       "4           0         1.0        1.0  4.344677e+15       1.0       24295.0  "
      ]
     },
     "execution_count": 22,
     "metadata": {},
     "output_type": "execute_result"
    }
   ],
   "source": [
    "train_data.head()"
   ]
  },
  {
   "cell_type": "code",
   "execution_count": 23,
   "id": "f4c2771a-0286-4cf0-aa97-84310774d66c",
   "metadata": {},
   "outputs": [],
   "source": [
    "x=train_data[train_data.columns[train_data.columns!='Is Fraud?']]\n",
    "y=train_data['Is Fraud?']"
   ]
  },
  {
   "cell_type": "code",
   "execution_count": 24,
   "id": "b39a363b",
   "metadata": {},
   "outputs": [
    {
     "data": {
      "text/plain": [
       "array([1, 0])"
      ]
     },
     "execution_count": 24,
     "metadata": {},
     "output_type": "execute_result"
    }
   ],
   "source": [
    "y.unique()"
   ]
  },
  {
   "cell_type": "code",
   "execution_count": 25,
   "id": "978873c0-b795-449d-aa81-3a13928a1fc4",
   "metadata": {},
   "outputs": [
    {
     "data": {
      "text/html": [
       "<div>\n",
       "<style scoped>\n",
       "    .dataframe tbody tr th:only-of-type {\n",
       "        vertical-align: middle;\n",
       "    }\n",
       "\n",
       "    .dataframe tbody tr th {\n",
       "        vertical-align: top;\n",
       "    }\n",
       "\n",
       "    .dataframe thead th {\n",
       "        text-align: right;\n",
       "    }\n",
       "</style>\n",
       "<table border=\"1\" class=\"dataframe\">\n",
       "  <thead>\n",
       "    <tr style=\"text-align: right;\">\n",
       "      <th></th>\n",
       "      <th>Amount</th>\n",
       "      <th>Use Chip</th>\n",
       "      <th>Merchant City</th>\n",
       "      <th>Merchant State</th>\n",
       "      <th>MCC</th>\n",
       "      <th>Current Age</th>\n",
       "      <th>Latitude</th>\n",
       "      <th>Longitude</th>\n",
       "      <th>Yearly Income - Person</th>\n",
       "      <th>FICO Score</th>\n",
       "      <th>CARD INDEX</th>\n",
       "      <th>Card Brand</th>\n",
       "      <th>Card Type</th>\n",
       "      <th>Card Number</th>\n",
       "      <th>Has Chip</th>\n",
       "      <th>Credit Limit</th>\n",
       "    </tr>\n",
       "  </thead>\n",
       "  <tbody>\n",
       "    <tr>\n",
       "      <th>0</th>\n",
       "      <td>287.13</td>\n",
       "      <td>3.0</td>\n",
       "      <td>2606.0</td>\n",
       "      <td>68.0</td>\n",
       "      <td>3001.0</td>\n",
       "      <td>53.0</td>\n",
       "      <td>34.15</td>\n",
       "      <td>-117.76</td>\n",
       "      <td>59696.0</td>\n",
       "      <td>787.0</td>\n",
       "      <td>0</td>\n",
       "      <td>1.0</td>\n",
       "      <td>1.0</td>\n",
       "      <td>4.344677e+15</td>\n",
       "      <td>1.0</td>\n",
       "      <td>24295.0</td>\n",
       "    </tr>\n",
       "    <tr>\n",
       "      <th>1</th>\n",
       "      <td>2.41</td>\n",
       "      <td>3.0</td>\n",
       "      <td>2606.0</td>\n",
       "      <td>68.0</td>\n",
       "      <td>5651.0</td>\n",
       "      <td>53.0</td>\n",
       "      <td>34.15</td>\n",
       "      <td>-117.76</td>\n",
       "      <td>59696.0</td>\n",
       "      <td>787.0</td>\n",
       "      <td>0</td>\n",
       "      <td>1.0</td>\n",
       "      <td>1.0</td>\n",
       "      <td>4.344677e+15</td>\n",
       "      <td>1.0</td>\n",
       "      <td>24295.0</td>\n",
       "    </tr>\n",
       "    <tr>\n",
       "      <th>2</th>\n",
       "      <td>50.81</td>\n",
       "      <td>3.0</td>\n",
       "      <td>2606.0</td>\n",
       "      <td>68.0</td>\n",
       "      <td>4411.0</td>\n",
       "      <td>53.0</td>\n",
       "      <td>34.15</td>\n",
       "      <td>-117.76</td>\n",
       "      <td>59696.0</td>\n",
       "      <td>787.0</td>\n",
       "      <td>0</td>\n",
       "      <td>1.0</td>\n",
       "      <td>1.0</td>\n",
       "      <td>4.344677e+15</td>\n",
       "      <td>1.0</td>\n",
       "      <td>24295.0</td>\n",
       "    </tr>\n",
       "    <tr>\n",
       "      <th>3</th>\n",
       "      <td>248.36</td>\n",
       "      <td>3.0</td>\n",
       "      <td>2606.0</td>\n",
       "      <td>68.0</td>\n",
       "      <td>5732.0</td>\n",
       "      <td>53.0</td>\n",
       "      <td>34.15</td>\n",
       "      <td>-117.76</td>\n",
       "      <td>59696.0</td>\n",
       "      <td>787.0</td>\n",
       "      <td>0</td>\n",
       "      <td>1.0</td>\n",
       "      <td>1.0</td>\n",
       "      <td>4.344677e+15</td>\n",
       "      <td>1.0</td>\n",
       "      <td>24295.0</td>\n",
       "    </tr>\n",
       "    <tr>\n",
       "      <th>4</th>\n",
       "      <td>473.00</td>\n",
       "      <td>3.0</td>\n",
       "      <td>2606.0</td>\n",
       "      <td>68.0</td>\n",
       "      <td>3640.0</td>\n",
       "      <td>53.0</td>\n",
       "      <td>34.15</td>\n",
       "      <td>-117.76</td>\n",
       "      <td>59696.0</td>\n",
       "      <td>787.0</td>\n",
       "      <td>0</td>\n",
       "      <td>1.0</td>\n",
       "      <td>1.0</td>\n",
       "      <td>4.344677e+15</td>\n",
       "      <td>1.0</td>\n",
       "      <td>24295.0</td>\n",
       "    </tr>\n",
       "  </tbody>\n",
       "</table>\n",
       "</div>"
      ],
      "text/plain": [
       "   Amount  Use Chip  Merchant City  Merchant State     MCC  Current Age  \\\n",
       "0  287.13       3.0         2606.0            68.0  3001.0         53.0   \n",
       "1    2.41       3.0         2606.0            68.0  5651.0         53.0   \n",
       "2   50.81       3.0         2606.0            68.0  4411.0         53.0   \n",
       "3  248.36       3.0         2606.0            68.0  5732.0         53.0   \n",
       "4  473.00       3.0         2606.0            68.0  3640.0         53.0   \n",
       "\n",
       "   Latitude  Longitude  Yearly Income - Person  FICO Score  CARD INDEX  \\\n",
       "0     34.15    -117.76                 59696.0       787.0           0   \n",
       "1     34.15    -117.76                 59696.0       787.0           0   \n",
       "2     34.15    -117.76                 59696.0       787.0           0   \n",
       "3     34.15    -117.76                 59696.0       787.0           0   \n",
       "4     34.15    -117.76                 59696.0       787.0           0   \n",
       "\n",
       "   Card Brand  Card Type   Card Number  Has Chip  Credit Limit  \n",
       "0         1.0        1.0  4.344677e+15       1.0       24295.0  \n",
       "1         1.0        1.0  4.344677e+15       1.0       24295.0  \n",
       "2         1.0        1.0  4.344677e+15       1.0       24295.0  \n",
       "3         1.0        1.0  4.344677e+15       1.0       24295.0  \n",
       "4         1.0        1.0  4.344677e+15       1.0       24295.0  "
      ]
     },
     "execution_count": 25,
     "metadata": {},
     "output_type": "execute_result"
    }
   ],
   "source": [
    "x.head()"
   ]
  },
  {
   "cell_type": "code",
   "execution_count": 67,
   "id": "aa5cad91",
   "metadata": {},
   "outputs": [
    {
     "ename": "AttributeError",
     "evalue": "'list' object has no attribute 'head'",
     "output_type": "error",
     "traceback": [
      "\u001b[1;31m---------------------------------------------------------------------------\u001b[0m",
      "\u001b[1;31mAttributeError\u001b[0m                            Traceback (most recent call last)",
      "Cell \u001b[1;32mIn[67], line 1\u001b[0m\n\u001b[1;32m----> 1\u001b[0m \u001b[43mx\u001b[49m\u001b[38;5;241;43m.\u001b[39;49m\u001b[43mhead\u001b[49m()\n",
      "\u001b[1;31mAttributeError\u001b[0m: 'list' object has no attribute 'head'"
     ]
    }
   ],
   "source": [
    "x.head()"
   ]
  },
  {
   "cell_type": "code",
   "execution_count": 30,
   "id": "7556c601-20c7-4a4f-b288-62bebba042e6",
   "metadata": {},
   "outputs": [],
   "source": [
    "scaler = StandardScaler()\n",
    "X_train_initial= scaler.fit_transform(x)\n",
    "y_train_initial= y"
   ]
  },
  {
   "cell_type": "code",
   "execution_count": 32,
   "id": "5beef548-d9cf-4aa3-849b-29453f52a58a",
   "metadata": {},
   "outputs": [],
   "source": [
    "import pickle\n",
    "pickle.dump(scaler, open(r'scaled_data.sav', 'wb'))"
   ]
  },
  {
   "cell_type": "markdown",
   "id": "ab632bec-6f01-4e36-91b1-7b30bb208afa",
   "metadata": {},
   "source": [
    "## Test Data Prepartaion"
   ]
  },
  {
   "cell_type": "code",
   "execution_count": 33,
   "id": "cb4d9e35-7057-4762-a020-3f7e2271eb36",
   "metadata": {},
   "outputs": [],
   "source": [
    "with open(r'training_dataMerchant State.pkl', 'rb') as file:\n",
    "    Merchant_state_label_encoder = pickle.load(file)"
   ]
  },
  {
   "cell_type": "code",
   "execution_count": 34,
   "id": "a83492df-44e9-49ca-8973-09effa7d82d1",
   "metadata": {},
   "outputs": [],
   "source": [
    "with open(r'training_dataMerchant City.pkl', 'rb') as file:\n",
    "    Merchant_City_label_encoder = pickle.load(file)"
   ]
  },
  {
   "cell_type": "code",
   "execution_count": 35,
   "id": "14a9dc44",
   "metadata": {},
   "outputs": [],
   "source": [
    "with open(r'training_dataCard Type.pkl', 'rb') as file:\n",
    "    Card_Type_label_encoder = pickle.load(file)"
   ]
  },
  {
   "cell_type": "code",
   "execution_count": 36,
   "id": "0040447e-7709-44df-bbc7-89ae1ce40f68",
   "metadata": {},
   "outputs": [],
   "source": [
    "scaler1 = pickle.load(open(r'scaled_data.sav', 'rb'))"
   ]
  },
  {
   "cell_type": "markdown",
   "id": "f8264e62-f2c0-47cc-8e6f-4c1ecf766478",
   "metadata": {},
   "source": [
    "### Categorical variables"
   ]
  },
  {
   "cell_type": "code",
   "execution_count": 37,
   "id": "15318ca2",
   "metadata": {},
   "outputs": [
    {
     "data": {
      "text/plain": [
       "False"
      ]
     },
     "execution_count": 37,
     "metadata": {},
     "output_type": "execute_result"
    }
   ],
   "source": [
    "train_data['Merchant State'].unique==37.0"
   ]
  },
  {
   "cell_type": "code",
   "execution_count": 38,
   "id": "d8d615b1",
   "metadata": {},
   "outputs": [
    {
     "data": {
      "text/plain": [
       "np.False_"
      ]
     },
     "execution_count": 38,
     "metadata": {},
     "output_type": "execute_result"
    }
   ],
   "source": [
    "(test['Merchant State'] == 37.0).any()\n"
   ]
  },
  {
   "cell_type": "code",
   "execution_count": 39,
   "id": "d15e6921",
   "metadata": {},
   "outputs": [
    {
     "data": {
      "text/html": [
       "<div>\n",
       "<style scoped>\n",
       "    .dataframe tbody tr th:only-of-type {\n",
       "        vertical-align: middle;\n",
       "    }\n",
       "\n",
       "    .dataframe tbody tr th {\n",
       "        vertical-align: top;\n",
       "    }\n",
       "\n",
       "    .dataframe thead th {\n",
       "        text-align: right;\n",
       "    }\n",
       "</style>\n",
       "<table border=\"1\" class=\"dataframe\">\n",
       "  <thead>\n",
       "    <tr style=\"text-align: right;\">\n",
       "      <th></th>\n",
       "      <th>Amount</th>\n",
       "      <th>Use Chip</th>\n",
       "      <th>Merchant City</th>\n",
       "      <th>Merchant State</th>\n",
       "      <th>MCC</th>\n",
       "      <th>Is Fraud?</th>\n",
       "      <th>Current Age</th>\n",
       "      <th>Latitude</th>\n",
       "      <th>Longitude</th>\n",
       "      <th>Yearly Income - Person</th>\n",
       "      <th>FICO Score</th>\n",
       "      <th>CARD INDEX</th>\n",
       "      <th>Card Brand</th>\n",
       "      <th>Card Type</th>\n",
       "      <th>Card Number</th>\n",
       "      <th>Has Chip</th>\n",
       "      <th>Credit Limit</th>\n",
       "    </tr>\n",
       "  </thead>\n",
       "  <tbody>\n",
       "    <tr>\n",
       "      <th>12988</th>\n",
       "      <td>11.50</td>\n",
       "      <td>Online Transaction</td>\n",
       "      <td>ONLINE</td>\n",
       "      <td>ONLINE</td>\n",
       "      <td>9402</td>\n",
       "      <td>1</td>\n",
       "      <td>65</td>\n",
       "      <td>41.02</td>\n",
       "      <td>-73.80</td>\n",
       "      <td>40957</td>\n",
       "      <td>608</td>\n",
       "      <td>1</td>\n",
       "      <td>Mastercard</td>\n",
       "      <td>Debit</td>\n",
       "      <td>5504734087292061</td>\n",
       "      <td>1</td>\n",
       "      <td>49107</td>\n",
       "    </tr>\n",
       "    <tr>\n",
       "      <th>15509</th>\n",
       "      <td>14.16</td>\n",
       "      <td>Swipe Transaction</td>\n",
       "      <td>Plymouth</td>\n",
       "      <td>MI</td>\n",
       "      <td>5310</td>\n",
       "      <td>1</td>\n",
       "      <td>66</td>\n",
       "      <td>42.22</td>\n",
       "      <td>-83.36</td>\n",
       "      <td>31175</td>\n",
       "      <td>711</td>\n",
       "      <td>0</td>\n",
       "      <td>Mastercard</td>\n",
       "      <td>Credit</td>\n",
       "      <td>5595124692967493</td>\n",
       "      <td>0</td>\n",
       "      <td>9000</td>\n",
       "    </tr>\n",
       "    <tr>\n",
       "      <th>23421</th>\n",
       "      <td>58.15</td>\n",
       "      <td>Online Transaction</td>\n",
       "      <td>ONLINE</td>\n",
       "      <td>ONLINE</td>\n",
       "      <td>5814</td>\n",
       "      <td>1</td>\n",
       "      <td>53</td>\n",
       "      <td>33.99</td>\n",
       "      <td>-117.53</td>\n",
       "      <td>40470</td>\n",
       "      <td>691</td>\n",
       "      <td>1</td>\n",
       "      <td>Mastercard</td>\n",
       "      <td>Debit</td>\n",
       "      <td>5754587881449040</td>\n",
       "      <td>1</td>\n",
       "      <td>18624</td>\n",
       "    </tr>\n",
       "    <tr>\n",
       "      <th>11037</th>\n",
       "      <td>1.07</td>\n",
       "      <td>Swipe Transaction</td>\n",
       "      <td>Port au Prince</td>\n",
       "      <td>Haiti</td>\n",
       "      <td>5812</td>\n",
       "      <td>1</td>\n",
       "      <td>57</td>\n",
       "      <td>44.08</td>\n",
       "      <td>-70.24</td>\n",
       "      <td>42411</td>\n",
       "      <td>765</td>\n",
       "      <td>0</td>\n",
       "      <td>Mastercard</td>\n",
       "      <td>Credit</td>\n",
       "      <td>5411382690193634</td>\n",
       "      <td>1</td>\n",
       "      <td>9700</td>\n",
       "    </tr>\n",
       "    <tr>\n",
       "      <th>50880</th>\n",
       "      <td>22.32</td>\n",
       "      <td>Online Transaction</td>\n",
       "      <td>ONLINE</td>\n",
       "      <td>ONLINE</td>\n",
       "      <td>4784</td>\n",
       "      <td>0</td>\n",
       "      <td>67</td>\n",
       "      <td>27.75</td>\n",
       "      <td>-82.64</td>\n",
       "      <td>23533</td>\n",
       "      <td>687</td>\n",
       "      <td>0</td>\n",
       "      <td>Visa</td>\n",
       "      <td>Debit</td>\n",
       "      <td>4801854572462060</td>\n",
       "      <td>1</td>\n",
       "      <td>16750</td>\n",
       "    </tr>\n",
       "  </tbody>\n",
       "</table>\n",
       "</div>"
      ],
      "text/plain": [
       "       Amount            Use Chip   Merchant City Merchant State   MCC  \\\n",
       "12988   11.50  Online Transaction          ONLINE         ONLINE  9402   \n",
       "15509   14.16   Swipe Transaction        Plymouth             MI  5310   \n",
       "23421   58.15  Online Transaction          ONLINE         ONLINE  5814   \n",
       "11037    1.07   Swipe Transaction  Port au Prince          Haiti  5812   \n",
       "50880   22.32  Online Transaction          ONLINE         ONLINE  4784   \n",
       "\n",
       "       Is Fraud?  Current Age  Latitude  Longitude  Yearly Income - Person  \\\n",
       "12988          1           65     41.02     -73.80                   40957   \n",
       "15509          1           66     42.22     -83.36                   31175   \n",
       "23421          1           53     33.99    -117.53                   40470   \n",
       "11037          1           57     44.08     -70.24                   42411   \n",
       "50880          0           67     27.75     -82.64                   23533   \n",
       "\n",
       "       FICO Score  CARD INDEX  Card Brand Card Type       Card Number  \\\n",
       "12988         608           1  Mastercard     Debit  5504734087292061   \n",
       "15509         711           0  Mastercard    Credit  5595124692967493   \n",
       "23421         691           1  Mastercard     Debit  5754587881449040   \n",
       "11037         765           0  Mastercard    Credit  5411382690193634   \n",
       "50880         687           0        Visa     Debit  4801854572462060   \n",
       "\n",
       "       Has Chip  Credit Limit  \n",
       "12988         1         49107  \n",
       "15509         0          9000  \n",
       "23421         1         18624  \n",
       "11037         1          9700  \n",
       "50880         1         16750  "
      ]
     },
     "execution_count": 39,
     "metadata": {},
     "output_type": "execute_result"
    }
   ],
   "source": [
    "test.head()"
   ]
  },
  {
   "cell_type": "code",
   "execution_count": 40,
   "id": "7a06ceea",
   "metadata": {},
   "outputs": [
    {
     "data": {
      "text/plain": [
       "np.True_"
      ]
     },
     "execution_count": 40,
     "metadata": {},
     "output_type": "execute_result"
    }
   ],
   "source": [
    "(train_data['Merchant State']==37.0).any()"
   ]
  },
  {
   "cell_type": "code",
   "execution_count": 41,
   "id": "b2b436f0-6e91-425a-adb0-f6211122cd0a",
   "metadata": {},
   "outputs": [],
   "source": [
    "col='Merchant State'\n",
    "test [col] = Merchant_state_label_encoder.transform(test [col])\n",
    "test [col] = test [col].astype('float64')"
   ]
  },
  {
   "cell_type": "code",
   "execution_count": 42,
   "id": "034082da",
   "metadata": {},
   "outputs": [
    {
     "data": {
      "text/plain": [
       "array([False, False, False, False, False, False, False, False,  True,\n",
       "       False, False, False, False, False, False, False, False, False,\n",
       "       False, False, False, False, False, False, False, False, False,\n",
       "       False, False, False, False, False, False, False, False, False,\n",
       "       False, False, False, False, False, False, False, False, False,\n",
       "       False, False, False, False, False, False, False, False, False,\n",
       "       False, False, False, False, False, False, False, False, False,\n",
       "       False, False, False, False, False, False, False, False, False,\n",
       "       False, False, False, False, False, False, False, False, False,\n",
       "       False])"
      ]
     },
     "execution_count": 42,
     "metadata": {},
     "output_type": "execute_result"
    }
   ],
   "source": [
    "test['Merchant State'].unique()==37.0"
   ]
  },
  {
   "cell_type": "code",
   "execution_count": 43,
   "id": "67540048-dca2-4cd3-ba0c-cfd61a7db3a4",
   "metadata": {},
   "outputs": [],
   "source": [
    "col='Merchant City'\n",
    "test [col] = Merchant_City_label_encoder.transform(test [col])\n",
    "test [col] = test [col].astype('float64')"
   ]
  },
  {
   "cell_type": "code",
   "execution_count": 44,
   "id": "134d156f",
   "metadata": {},
   "outputs": [],
   "source": [
    "col='Card Type'\n",
    "test [col] = Card_Type_label_encoder.transform(test [col])\n",
    "test [col] = test [col].astype('float64')"
   ]
  },
  {
   "cell_type": "code",
   "execution_count": 45,
   "id": "16373054-da55-404e-aedf-801e8e782582",
   "metadata": {},
   "outputs": [],
   "source": [
    "test['Use Chip']=test['Use Chip'].map({'Swipe Transaction':1, 'Chip Transaction':2, 'Online Transaction':3})\n",
    "\n",
    "test['Card Brand']=test['Card Brand'].map({'Visa':1, 'Amex':2, 'Mastercard':3, 'Discover':4})"
   ]
  },
  {
   "cell_type": "markdown",
   "id": "cb14d047-e4a3-4148-b5ef-2ca1dcd607c6",
   "metadata": {},
   "source": [
    "### Numerical Variables"
   ]
  },
  {
   "cell_type": "code",
   "execution_count": 46,
   "id": "99918355-8029-4af4-90f4-8fb2a31515ea",
   "metadata": {},
   "outputs": [],
   "source": [
    "x=['Use Chip','MCC','Card Brand','Card Number','Has Chip','Credit Limit','Current Age','Yearly Income - Person','FICO Score']\n",
    "for i in x:\n",
    "    test [x] = test [x].astype('float64')"
   ]
  },
  {
   "cell_type": "code",
   "execution_count": 47,
   "id": "d8ae5761-f233-46f1-ae89-5b5724f2f10f",
   "metadata": {},
   "outputs": [],
   "source": [
    "X_test=test[test.columns[test.columns!='Is Fraud?']]\n",
    "y_test=test['Is Fraud?']"
   ]
  },
  {
   "cell_type": "code",
   "execution_count": 48,
   "id": "9e559f38-6e91-45a9-9a58-11e8857abbb6",
   "metadata": {},
   "outputs": [
    {
     "data": {
      "text/html": [
       "<div>\n",
       "<style scoped>\n",
       "    .dataframe tbody tr th:only-of-type {\n",
       "        vertical-align: middle;\n",
       "    }\n",
       "\n",
       "    .dataframe tbody tr th {\n",
       "        vertical-align: top;\n",
       "    }\n",
       "\n",
       "    .dataframe thead th {\n",
       "        text-align: right;\n",
       "    }\n",
       "</style>\n",
       "<table border=\"1\" class=\"dataframe\">\n",
       "  <thead>\n",
       "    <tr style=\"text-align: right;\">\n",
       "      <th></th>\n",
       "      <th>Amount</th>\n",
       "      <th>Use Chip</th>\n",
       "      <th>Merchant City</th>\n",
       "      <th>Merchant State</th>\n",
       "      <th>MCC</th>\n",
       "      <th>Current Age</th>\n",
       "      <th>Latitude</th>\n",
       "      <th>Longitude</th>\n",
       "      <th>Yearly Income - Person</th>\n",
       "      <th>FICO Score</th>\n",
       "      <th>CARD INDEX</th>\n",
       "      <th>Card Brand</th>\n",
       "      <th>Card Type</th>\n",
       "      <th>Card Number</th>\n",
       "      <th>Has Chip</th>\n",
       "      <th>Credit Limit</th>\n",
       "    </tr>\n",
       "  </thead>\n",
       "  <tbody>\n",
       "    <tr>\n",
       "      <th>12988</th>\n",
       "      <td>11.50</td>\n",
       "      <td>3.0</td>\n",
       "      <td>2606.0</td>\n",
       "      <td>68.0</td>\n",
       "      <td>9402.0</td>\n",
       "      <td>65.0</td>\n",
       "      <td>41.02</td>\n",
       "      <td>-73.80</td>\n",
       "      <td>40957.0</td>\n",
       "      <td>608.0</td>\n",
       "      <td>1</td>\n",
       "      <td>3.0</td>\n",
       "      <td>1.0</td>\n",
       "      <td>5.504734e+15</td>\n",
       "      <td>1.0</td>\n",
       "      <td>49107.0</td>\n",
       "    </tr>\n",
       "    <tr>\n",
       "      <th>15509</th>\n",
       "      <td>14.16</td>\n",
       "      <td>1.0</td>\n",
       "      <td>2899.0</td>\n",
       "      <td>47.0</td>\n",
       "      <td>5310.0</td>\n",
       "      <td>66.0</td>\n",
       "      <td>42.22</td>\n",
       "      <td>-83.36</td>\n",
       "      <td>31175.0</td>\n",
       "      <td>711.0</td>\n",
       "      <td>0</td>\n",
       "      <td>3.0</td>\n",
       "      <td>0.0</td>\n",
       "      <td>5.595125e+15</td>\n",
       "      <td>0.0</td>\n",
       "      <td>9000.0</td>\n",
       "    </tr>\n",
       "    <tr>\n",
       "      <th>23421</th>\n",
       "      <td>58.15</td>\n",
       "      <td>3.0</td>\n",
       "      <td>2606.0</td>\n",
       "      <td>68.0</td>\n",
       "      <td>5814.0</td>\n",
       "      <td>53.0</td>\n",
       "      <td>33.99</td>\n",
       "      <td>-117.53</td>\n",
       "      <td>40470.0</td>\n",
       "      <td>691.0</td>\n",
       "      <td>1</td>\n",
       "      <td>3.0</td>\n",
       "      <td>1.0</td>\n",
       "      <td>5.754588e+15</td>\n",
       "      <td>1.0</td>\n",
       "      <td>18624.0</td>\n",
       "    </tr>\n",
       "    <tr>\n",
       "      <th>11037</th>\n",
       "      <td>1.07</td>\n",
       "      <td>1.0</td>\n",
       "      <td>2934.0</td>\n",
       "      <td>26.0</td>\n",
       "      <td>5812.0</td>\n",
       "      <td>57.0</td>\n",
       "      <td>44.08</td>\n",
       "      <td>-70.24</td>\n",
       "      <td>42411.0</td>\n",
       "      <td>765.0</td>\n",
       "      <td>0</td>\n",
       "      <td>3.0</td>\n",
       "      <td>0.0</td>\n",
       "      <td>5.411383e+15</td>\n",
       "      <td>1.0</td>\n",
       "      <td>9700.0</td>\n",
       "    </tr>\n",
       "    <tr>\n",
       "      <th>50880</th>\n",
       "      <td>22.32</td>\n",
       "      <td>3.0</td>\n",
       "      <td>2606.0</td>\n",
       "      <td>68.0</td>\n",
       "      <td>4784.0</td>\n",
       "      <td>67.0</td>\n",
       "      <td>27.75</td>\n",
       "      <td>-82.64</td>\n",
       "      <td>23533.0</td>\n",
       "      <td>687.0</td>\n",
       "      <td>0</td>\n",
       "      <td>1.0</td>\n",
       "      <td>1.0</td>\n",
       "      <td>4.801855e+15</td>\n",
       "      <td>1.0</td>\n",
       "      <td>16750.0</td>\n",
       "    </tr>\n",
       "  </tbody>\n",
       "</table>\n",
       "</div>"
      ],
      "text/plain": [
       "       Amount  Use Chip  Merchant City  Merchant State     MCC  Current Age  \\\n",
       "12988   11.50       3.0         2606.0            68.0  9402.0         65.0   \n",
       "15509   14.16       1.0         2899.0            47.0  5310.0         66.0   \n",
       "23421   58.15       3.0         2606.0            68.0  5814.0         53.0   \n",
       "11037    1.07       1.0         2934.0            26.0  5812.0         57.0   \n",
       "50880   22.32       3.0         2606.0            68.0  4784.0         67.0   \n",
       "\n",
       "       Latitude  Longitude  Yearly Income - Person  FICO Score  CARD INDEX  \\\n",
       "12988     41.02     -73.80                 40957.0       608.0           1   \n",
       "15509     42.22     -83.36                 31175.0       711.0           0   \n",
       "23421     33.99    -117.53                 40470.0       691.0           1   \n",
       "11037     44.08     -70.24                 42411.0       765.0           0   \n",
       "50880     27.75     -82.64                 23533.0       687.0           0   \n",
       "\n",
       "       Card Brand  Card Type   Card Number  Has Chip  Credit Limit  \n",
       "12988         3.0        1.0  5.504734e+15       1.0       49107.0  \n",
       "15509         3.0        0.0  5.595125e+15       0.0        9000.0  \n",
       "23421         3.0        1.0  5.754588e+15       1.0       18624.0  \n",
       "11037         3.0        0.0  5.411383e+15       1.0        9700.0  \n",
       "50880         1.0        1.0  4.801855e+15       1.0       16750.0  "
      ]
     },
     "execution_count": 48,
     "metadata": {},
     "output_type": "execute_result"
    }
   ],
   "source": [
    "X_test.head()"
   ]
  },
  {
   "cell_type": "code",
   "execution_count": 49,
   "id": "61adab2d-1f84-4a41-bfb9-4bde6da9eb62",
   "metadata": {},
   "outputs": [],
   "source": [
    "X_test_initial= scaler1.transform(X_test)"
   ]
  },
  {
   "cell_type": "code",
   "execution_count": 50,
   "id": "a2fec8ff",
   "metadata": {},
   "outputs": [
    {
     "data": {
      "text/plain": [
       "array([[-0.40940772,  1.21569687,  0.33557832, ...,  0.50677061,\n",
       "         0.32235086,  3.05785813],\n",
       "       [-0.39263914, -1.04541268,  0.63825941, ...,  0.57319968,\n",
       "        -3.10220983, -0.42041126],\n",
       "       [-0.11532721,  1.21569687,  0.33557832, ...,  0.69039096,\n",
       "         0.32235086,  0.41422769],\n",
       "       ...,\n",
       "       [ 0.6560904 ,  1.21569687,  0.33557832, ..., -0.43203868,\n",
       "         0.32235086, -0.40774945],\n",
       "       [ 0.09673856,  1.21569687,  0.33557832, ...,  0.77353857,\n",
       "         0.32235086, -0.0995297 ],\n",
       "       [ 0.16450631, -1.04541268,  1.26531547, ...,  0.79593187,\n",
       "         0.32235086,  0.61699015]])"
      ]
     },
     "execution_count": 50,
     "metadata": {},
     "output_type": "execute_result"
    }
   ],
   "source": [
    "X_test_initial"
   ]
  },
  {
   "cell_type": "code",
   "execution_count": 51,
   "id": "bbc2295f",
   "metadata": {},
   "outputs": [
    {
     "data": {
      "text/plain": [
       "['Use Chip',\n",
       " 'MCC',\n",
       " 'Card Brand',\n",
       " 'Card Number',\n",
       " 'Has Chip',\n",
       " 'Credit Limit',\n",
       " 'Current Age',\n",
       " 'Yearly Income - Person',\n",
       " 'FICO Score']"
      ]
     },
     "execution_count": 51,
     "metadata": {},
     "output_type": "execute_result"
    }
   ],
   "source": [
    "x"
   ]
  },
  {
   "cell_type": "markdown",
   "id": "bb495e00-ca7b-4bf6-8c51-ce0659bd6592",
   "metadata": {},
   "source": [
    "## Prediction Model Training"
   ]
  },
  {
   "cell_type": "code",
   "execution_count": 52,
   "id": "d098ece8-6f38-44de-a85d-a2ce7802bfd4",
   "metadata": {},
   "outputs": [],
   "source": [
    "from sklearn.model_selection import train_test_split, cross_val_score\n",
    "from sklearn.metrics import accuracy_score, precision_score, recall_score, f1_score, classification_report,confusion_matrix\n",
    "from sklearn.linear_model import LogisticRegression\n",
    "from sklearn.tree import DecisionTreeClassifier\n",
    "from sklearn.ensemble import RandomForestClassifier, GradientBoostingClassifier, AdaBoostClassifier\n",
    "from xgboost import XGBClassifier\n",
    "from sklearn.svm import SVC\n",
    "from sklearn.neighbors import KNeighborsClassifier\n",
    "from sklearn.naive_bayes import GaussianNB\n"
   ]
  },
  {
   "cell_type": "code",
   "execution_count": 53,
   "id": "47a95ac8-0cb1-4502-92cb-e02a58095832",
   "metadata": {},
   "outputs": [],
   "source": [
    "import matplotlib.pyplot as plt\n",
    "import pandas as pd\n",
    "import numpy as np\n",
    "# import matplotlib.pyplot as plt\n",
    "%matplotlib inline\n",
    "import seaborn as sns"
   ]
  },
  {
   "cell_type": "code",
   "execution_count": 54,
   "id": "551ca339-dc95-44bc-951d-e11da65cc2eb",
   "metadata": {},
   "outputs": [],
   "source": [
    "def evaluate_model(model, X_train, y_train, X_test, y_test):\n",
    "    model.fit(X_train, y_train)\n",
    "    y_pred = model.predict(X_test)\n",
    "    accuracy = accuracy_score(y_test, y_pred)\n",
    "    precision = precision_score(y_test, y_pred)\n",
    "    recall = recall_score(y_test, y_pred)\n",
    "    f1 = f1_score(y_test, y_pred)\n",
    "    print('The model Name is:- ',str(model))\n",
    "    print(classification_report(y_test, y_pred))\n",
    "    plot_confusion_matrix(y_test, y_pred)\n",
    "    #print(y_pred)\n",
    "    \n",
    "    return accuracy, precision, recall, f1"
   ]
  },
  {
   "cell_type": "code",
   "execution_count": 55,
   "id": "ff28a346-6062-4cc4-a3b9-fc82a81d055d",
   "metadata": {},
   "outputs": [],
   "source": [
    "def plot_confusion_matrix(y_true, y_pred):\n",
    "    cm = confusion_matrix(y_true, y_pred)\n",
    "    plt.figure(figsize=(10, 7))\n",
    "    sns.heatmap(cm, annot=True, fmt='d', cmap='Blues', xticklabels=['Legitimate', 'Fraud'], yticklabels=['Legitimate', 'Fraud'])\n",
    "    plt.xlabel('Predicted')\n",
    "    plt.ylabel('Actual')\n",
    "    plt.title('True vs Predicted matrix')\n",
    "    plt.show()"
   ]
  },
  {
   "cell_type": "markdown",
   "id": "b3ab3e25-9439-468b-9c6c-ba168c84a851",
   "metadata": {},
   "source": [
    "### Models"
   ]
  },
  {
   "cell_type": "code",
   "execution_count": 56,
   "id": "35a90727-1e04-420d-8a8d-81f4687bda4d",
   "metadata": {},
   "outputs": [],
   "source": [
    "mls=[LogisticRegression(),\n",
    "DecisionTreeClassifier(random_state=42),\n",
    "RandomForestClassifier(),\n",
    "GradientBoostingClassifier(),\n",
    "XGBClassifier(use_label_encoder=False, eval_metric='logloss')]"
   ]
  },
  {
   "cell_type": "markdown",
   "id": "0c4f156a-6bff-41d4-9e7a-1fb3f66ed61b",
   "metadata": {},
   "source": [
    "## Model evaluation"
   ]
  },
  {
   "cell_type": "code",
   "execution_count": null,
   "id": "2f09e379",
   "metadata": {},
   "outputs": [],
   "source": [
    "new_X"
   ]
  },
  {
   "cell_type": "code",
   "execution_count": 57,
   "id": "bfe1419d-3e17-44ce-b354-e93fa43d0e27",
   "metadata": {
    "scrolled": true
   },
   "outputs": [
    {
     "name": "stdout",
     "output_type": "stream",
     "text": [
      "The model Name is:-  LogisticRegression()\n",
      "              precision    recall  f1-score   support\n",
      "\n",
      "           0       0.77      0.80      0.79      8900\n",
      "           1       0.80      0.76      0.78      8955\n",
      "\n",
      "    accuracy                           0.78     17855\n",
      "   macro avg       0.78      0.78      0.78     17855\n",
      "weighted avg       0.78      0.78      0.78     17855\n",
      "\n"
     ]
    },
    {
     "data": {
      "image/png": "[encoded data removed]",
      "text/plain": [
       "<Figure size 1000x700 with 2 Axes>"
      ]
     },
     "metadata": {},
     "output_type": "display_data"
    },
    {
     "name": "stdout",
     "output_type": "stream",
     "text": [
      "[0.7832539904788575, np.float64(0.7964323189926548), np.float64(0.7628140703517587), np.float64(0.7792607802874744)]\n",
      "The model Name is:-  DecisionTreeClassifier(random_state=42)\n",
      "              precision    recall  f1-score   support\n",
      "\n",
      "           0       1.00      1.00      1.00      8900\n",
      "           1       1.00      1.00      1.00      8955\n",
      "\n",
      "    accuracy                           1.00     17855\n",
      "   macro avg       1.00      1.00      1.00     17855\n",
      "weighted avg       1.00      1.00      1.00     17855\n",
      "\n"
     ]
    },
    {
     "data": {
      "image/png": "[encoded data removed]",
      "text/plain": [
       "<Figure size 1000x700 with 2 Axes>"
      ]
     },
     "metadata": {},
     "output_type": "display_data"
    },
    {
     "name": "stdout",
     "output_type": "stream",
     "text": [
      "[1.0, np.float64(1.0), np.float64(1.0), np.float64(1.0)]\n",
      "The model Name is:-  RandomForestClassifier()\n",
      "              precision    recall  f1-score   support\n",
      "\n",
      "           0       1.00      1.00      1.00      8900\n",
      "           1       1.00      1.00      1.00      8955\n",
      "\n",
      "    accuracy                           1.00     17855\n",
      "   macro avg       1.00      1.00      1.00     17855\n",
      "weighted avg       1.00      1.00      1.00     17855\n",
      "\n"
     ]
    },
    {
     "data": {
      "image/png": "[encoded data removed]",
      "text/plain": [
       "<Figure size 1000x700 with 2 Axes>"
      ]
     },
     "metadata": {},
     "output_type": "display_data"
    },
    {
     "name": "stdout",
     "output_type": "stream",
     "text": [
      "[0.9999439932791935, np.float64(1.0), np.float64(0.9998883305415969), np.float64(0.9999441621531073)]\n",
      "The model Name is:-  GradientBoostingClassifier()\n",
      "              precision    recall  f1-score   support\n",
      "\n",
      "           0       0.88      0.95      0.92      8900\n",
      "           1       0.95      0.87      0.91      8955\n",
      "\n",
      "    accuracy                           0.91     17855\n",
      "   macro avg       0.91      0.91      0.91     17855\n",
      "weighted avg       0.92      0.91      0.91     17855\n",
      "\n"
     ]
    },
    {
     "data": {
      "image/png": "[encoded data removed]",
      "text/plain": [
       "<Figure size 1000x700 with 2 Axes>"
      ]
     },
     "metadata": {},
     "output_type": "display_data"
    },
    {
     "name": "stdout",
     "output_type": "stream",
     "text": [
      "[0.9120694483338001, np.float64(0.9499207993176556), np.float64(0.8705750977107761), np.float64(0.9085188206502739)]\n"
     ]
    },
    {
     "name": "stderr",
     "output_type": "stream",
     "text": [
      "c:\\Users\\bharath.venkatesan\\AppData\\Local\\Programs\\Python\\Python312\\Lib\\site-packages\\xgboost\\core.py:158: UserWarning:\n",
      "\n",
      "[13:17:31] WARNING: C:\\buildkite-agent\\builds\\buildkite-windows-cpu-autoscaling-group-i-0015a694724fa8361-1\\xgboost\\xgboost-ci-windows\\src\\learner.cc:740: \n",
      "Parameters: { \"use_label_encoder\" } are not used.\n",
      "\n",
      "\n"
     ]
    },
    {
     "name": "stdout",
     "output_type": "stream",
     "text": [
      "The model Name is:-  XGBClassifier(base_score=None, booster=None, callbacks=None,\n",
      "              colsample_bylevel=None, colsample_bynode=None,\n",
      "              colsample_bytree=None, device=None, early_stopping_rounds=None,\n",
      "              enable_categorical=False, eval_metric='logloss',\n",
      "              feature_types=None, gamma=None, grow_policy=None,\n",
      "              importance_type=None, interaction_constraints=None,\n",
      "              learning_rate=None, max_bin=None, max_cat_threshold=None,\n",
      "              max_cat_to_onehot=None, max_delta_step=None, max_depth=None,\n",
      "              max_leaves=None, min_child_weight=None, missing=nan,\n",
      "              monotone_constraints=None, multi_strategy=None, n_estimators=None,\n",
      "              n_jobs=None, num_parallel_tree=None, random_state=None, ...)\n",
      "              precision    recall  f1-score   support\n",
      "\n",
      "           0       0.95      0.98      0.97      8900\n",
      "           1       0.98      0.95      0.96      8955\n",
      "\n",
      "    accuracy                           0.96     17855\n",
      "   macro avg       0.96      0.96      0.96     17855\n",
      "weighted avg       0.97      0.96      0.96     17855\n",
      "\n"
     ]
    },
    {
     "data": {
      "image/png": "[encoded data removed]",
      "text/plain": [
       "<Figure size 1000x700 with 2 Axes>"
      ]
     },
     "metadata": {},
     "output_type": "display_data"
    },
    {
     "name": "stdout",
     "output_type": "stream",
     "text": [
      "[0.9647717726127135, np.float64(0.9754454088624943), np.float64(0.9537688442211055), np.float64(0.9644853480887584)]\n"
     ]
    }
   ],
   "source": [
    "for i in mls:\n",
    "    model=i\n",
    "    accuracy, precision, recall, f1=evaluate_model(model, X_train_initial, y_train_initial, X_test_initial, y_test)\n",
    "    print([accuracy, precision, recall, f1])"
   ]
  },
  {
   "cell_type": "code",
   "execution_count": 64,
   "id": "2f486bfd-375c-4486-81cc-da2a39a793db",
   "metadata": {},
   "outputs": [
    {
     "data": {
      "text/html": [
       "<style>#sk-container-id-3 {\n",
       "  /* Definition of color scheme common for light and dark mode */\n",
       "  --sklearn-color-text: black;\n",
       "  --sklearn-color-line: gray;\n",
       "  /* Definition of color scheme for unfitted estimators */\n",
       "  --sklearn-color-unfitted-level-0: #fff5e6;\n",
       "  --sklearn-color-unfitted-level-1: #f6e4d2;\n",
       "  --sklearn-color-unfitted-level-2: #ffe0b3;\n",
       "  --sklearn-color-unfitted-level-3: chocolate;\n",
       "  /* Definition of color scheme for fitted estimators */\n",
       "  --sklearn-color-fitted-level-0: #f0f8ff;\n",
       "  --sklearn-color-fitted-level-1: #d4ebff;\n",
       "  --sklearn-color-fitted-level-2: #b3dbfd;\n",
       "  --sklearn-color-fitted-level-3: cornflowerblue;\n",
       "\n",
       "  /* Specific color for light theme */\n",
       "  --sklearn-color-text-on-default-background: var(--sg-text-color, var(--theme-code-foreground, var(--jp-content-font-color1, black)));\n",
       "  --sklearn-color-background: var(--sg-background-color, var(--theme-background, var(--jp-layout-color0, white)));\n",
       "  --sklearn-color-border-box: var(--sg-text-color, var(--theme-code-foreground, var(--jp-content-font-color1, black)));\n",
       "  --sklearn-color-icon: #696969;\n",
       "\n",
       "  @media (prefers-color-scheme: dark) {\n",
       "    /* Redefinition of color scheme for dark theme */\n",
       "    --sklearn-color-text-on-default-background: var(--sg-text-color, var(--theme-code-foreground, var(--jp-content-font-color1, white)));\n",
       "    --sklearn-color-background: var(--sg-background-color, var(--theme-background, var(--jp-layout-color0, #111)));\n",
       "    --sklearn-color-border-box: var(--sg-text-color, var(--theme-code-foreground, var(--jp-content-font-color1, white)));\n",
       "    --sklearn-color-icon: #878787;\n",
       "  }\n",
       "}\n",
       "\n",
       "#sk-container-id-3 {\n",
       "  color: var(--sklearn-color-text);\n",
       "}\n",
       "\n",
       "#sk-container-id-3 pre {\n",
       "  padding: 0;\n",
       "}\n",
       "\n",
       "#sk-container-id-3 input.sk-hidden--visually {\n",
       "  border: 0;\n",
       "  clip: rect(1px 1px 1px 1px);\n",
       "  clip: rect(1px, 1px, 1px, 1px);\n",
       "  height: 1px;\n",
       "  margin: -1px;\n",
       "  overflow: hidden;\n",
       "  padding: 0;\n",
       "  position: absolute;\n",
       "  width: 1px;\n",
       "}\n",
       "\n",
       "#sk-container-id-3 div.sk-dashed-wrapped {\n",
       "  border: 1px dashed var(--sklearn-color-line);\n",
       "  margin: 0 0.4em 0.5em 0.4em;\n",
       "  box-sizing: border-box;\n",
       "  padding-bottom: 0.4em;\n",
       "  background-color: var(--sklearn-color-background);\n",
       "}\n",
       "\n",
       "#sk-container-id-3 div.sk-container {\n",
       "  /* jupyter's `normalize.less` sets `[hidden] { display: none; }`\n",
       "     but bootstrap.min.css set `[hidden] { display: none !important; }`\n",
       "     so we also need the `!important` here to be able to override the\n",
       "     default hidden behavior on the sphinx rendered scikit-learn.org.\n",
       "     See: https://github.com/scikit-learn/scikit-learn/issues/21755 */\n",
       "  display: inline-block !important;\n",
       "  position: relative;\n",
       "}\n",
       "\n",
       "#sk-container-id-3 div.sk-text-repr-fallback {\n",
       "  display: none;\n",
       "}\n",
       "\n",
       "div.sk-parallel-item,\n",
       "div.sk-serial,\n",
       "div.sk-item {\n",
       "  /* draw centered vertical line to link estimators */\n",
       "  background-image: linear-gradient(var(--sklearn-color-text-on-default-background), var(--sklearn-color-text-on-default-background));\n",
       "  background-size: 2px 100%;\n",
       "  background-repeat: no-repeat;\n",
       "  background-position: center center;\n",
       "}\n",
       "\n",
       "/* Parallel-specific style estimator block */\n",
       "\n",
       "#sk-container-id-3 div.sk-parallel-item::after {\n",
       "  content: \"\";\n",
       "  width: 100%;\n",
       "  border-bottom: 2px solid var(--sklearn-color-text-on-default-background);\n",
       "  flex-grow: 1;\n",
       "}\n",
       "\n",
       "#sk-container-id-3 div.sk-parallel {\n",
       "  display: flex;\n",
       "  align-items: stretch;\n",
       "  justify-content: center;\n",
       "  background-color: var(--sklearn-color-background);\n",
       "  position: relative;\n",
       "}\n",
       "\n",
       "#sk-container-id-3 div.sk-parallel-item {\n",
       "  display: flex;\n",
       "  flex-direction: column;\n",
       "}\n",
       "\n",
       "#sk-container-id-3 div.sk-parallel-item:first-child::after {\n",
       "  align-self: flex-end;\n",
       "  width: 50%;\n",
       "}\n",
       "\n",
       "#sk-container-id-3 div.sk-parallel-item:last-child::after {\n",
       "  align-self: flex-start;\n",
       "  width: 50%;\n",
       "}\n",
       "\n",
       "#sk-container-id-3 div.sk-parallel-item:only-child::after {\n",
       "  width: 0;\n",
       "}\n",
       "\n",
       "/* Serial-specific style estimator block */\n",
       "\n",
       "#sk-container-id-3 div.sk-serial {\n",
       "  display: flex;\n",
       "  flex-direction: column;\n",
       "  align-items: center;\n",
       "  background-color: var(--sklearn-color-background);\n",
       "  padding-right: 1em;\n",
       "  padding-left: 1em;\n",
       "}\n",
       "\n",
       "\n",
       "/* Toggleable style: style used for estimator/Pipeline/ColumnTransformer box that is\n",
       "clickable and can be expanded/collapsed.\n",
       "- Pipeline and ColumnTransformer use this feature and define the default style\n",
       "- Estimators will overwrite some part of the style using the `sk-estimator` class\n",
       "*/\n",
       "\n",
       "/* Pipeline and ColumnTransformer style (default) */\n",
       "\n",
       "#sk-container-id-3 div.sk-toggleable {\n",
       "  /* Default theme specific background. It is overwritten whether we have a\n",
       "  specific estimator or a Pipeline/ColumnTransformer */\n",
       "  background-color: var(--sklearn-color-background);\n",
       "}\n",
       "\n",
       "/* Toggleable label */\n",
       "#sk-container-id-3 label.sk-toggleable__label {\n",
       "  cursor: pointer;\n",
       "  display: block;\n",
       "  width: 100%;\n",
       "  margin-bottom: 0;\n",
       "  padding: 0.5em;\n",
       "  box-sizing: border-box;\n",
       "  text-align: center;\n",
       "}\n",
       "\n",
       "#sk-container-id-3 label.sk-toggleable__label-arrow:before {\n",
       "  /* Arrow on the left of the label */\n",
       "  content: \"▸\";\n",
       "  float: left;\n",
       "  margin-right: 0.25em;\n",
       "  color: var(--sklearn-color-icon);\n",
       "}\n",
       "\n",
       "#sk-container-id-3 label.sk-toggleable__label-arrow:hover:before {\n",
       "  color: var(--sklearn-color-text);\n",
       "}\n",
       "\n",
       "/* Toggleable content - dropdown */\n",
       "\n",
       "#sk-container-id-3 div.sk-toggleable__content {\n",
       "  max-height: 0;\n",
       "  max-width: 0;\n",
       "  overflow: hidden;\n",
       "  text-align: left;\n",
       "  /* unfitted */\n",
       "  background-color: var(--sklearn-color-unfitted-level-0);\n",
       "}\n",
       "\n",
       "#sk-container-id-3 div.sk-toggleable__content.fitted {\n",
       "  /* fitted */\n",
       "  background-color: var(--sklearn-color-fitted-level-0);\n",
       "}\n",
       "\n",
       "#sk-container-id-3 div.sk-toggleable__content pre {\n",
       "  margin: 0.2em;\n",
       "  border-radius: 0.25em;\n",
       "  color: var(--sklearn-color-text);\n",
       "  /* unfitted */\n",
       "  background-color: var(--sklearn-color-unfitted-level-0);\n",
       "}\n",
       "\n",
       "#sk-container-id-3 div.sk-toggleable__content.fitted pre {\n",
       "  /* unfitted */\n",
       "  background-color: var(--sklearn-color-fitted-level-0);\n",
       "}\n",
       "\n",
       "#sk-container-id-3 input.sk-toggleable__control:checked~div.sk-toggleable__content {\n",
       "  /* Expand drop-down */\n",
       "  max-height: 200px;\n",
       "  max-width: 100%;\n",
       "  overflow: auto;\n",
       "}\n",
       "\n",
       "#sk-container-id-3 input.sk-toggleable__control:checked~label.sk-toggleable__label-arrow:before {\n",
       "  content: \"▾\";\n",
       "}\n",
       "\n",
       "/* Pipeline/ColumnTransformer-specific style */\n",
       "\n",
       "#sk-container-id-3 div.sk-label input.sk-toggleable__control:checked~label.sk-toggleable__label {\n",
       "  color: var(--sklearn-color-text);\n",
       "  background-color: var(--sklearn-color-unfitted-level-2);\n",
       "}\n",
       "\n",
       "#sk-container-id-3 div.sk-label.fitted input.sk-toggleable__control:checked~label.sk-toggleable__label {\n",
       "  background-color: var(--sklearn-color-fitted-level-2);\n",
       "}\n",
       "\n",
       "/* Estimator-specific style */\n",
       "\n",
       "/* Colorize estimator box */\n",
       "#sk-container-id-3 div.sk-estimator input.sk-toggleable__control:checked~label.sk-toggleable__label {\n",
       "  /* unfitted */\n",
       "  background-color: var(--sklearn-color-unfitted-level-2);\n",
       "}\n",
       "\n",
       "#sk-container-id-3 div.sk-estimator.fitted input.sk-toggleable__control:checked~label.sk-toggleable__label {\n",
       "  /* fitted */\n",
       "  background-color: var(--sklearn-color-fitted-level-2);\n",
       "}\n",
       "\n",
       "#sk-container-id-3 div.sk-label label.sk-toggleable__label,\n",
       "#sk-container-id-3 div.sk-label label {\n",
       "  /* The background is the default theme color */\n",
       "  color: var(--sklearn-color-text-on-default-background);\n",
       "}\n",
       "\n",
       "/* On hover, darken the color of the background */\n",
       "#sk-container-id-3 div.sk-label:hover label.sk-toggleable__label {\n",
       "  color: var(--sklearn-color-text);\n",
       "  background-color: var(--sklearn-color-unfitted-level-2);\n",
       "}\n",
       "\n",
       "/* Label box, darken color on hover, fitted */\n",
       "#sk-container-id-3 div.sk-label.fitted:hover label.sk-toggleable__label.fitted {\n",
       "  color: var(--sklearn-color-text);\n",
       "  background-color: var(--sklearn-color-fitted-level-2);\n",
       "}\n",
       "\n",
       "/* Estimator label */\n",
       "\n",
       "#sk-container-id-3 div.sk-label label {\n",
       "  font-family: monospace;\n",
       "  font-weight: bold;\n",
       "  display: inline-block;\n",
       "  line-height: 1.2em;\n",
       "}\n",
       "\n",
       "#sk-container-id-3 div.sk-label-container {\n",
       "  text-align: center;\n",
       "}\n",
       "\n",
       "/* Estimator-specific */\n",
       "#sk-container-id-3 div.sk-estimator {\n",
       "  font-family: monospace;\n",
       "  border: 1px dotted var(--sklearn-color-border-box);\n",
       "  border-radius: 0.25em;\n",
       "  box-sizing: border-box;\n",
       "  margin-bottom: 0.5em;\n",
       "  /* unfitted */\n",
       "  background-color: var(--sklearn-color-unfitted-level-0);\n",
       "}\n",
       "\n",
       "#sk-container-id-3 div.sk-estimator.fitted {\n",
       "  /* fitted */\n",
       "  background-color: var(--sklearn-color-fitted-level-0);\n",
       "}\n",
       "\n",
       "/* on hover */\n",
       "#sk-container-id-3 div.sk-estimator:hover {\n",
       "  /* unfitted */\n",
       "  background-color: var(--sklearn-color-unfitted-level-2);\n",
       "}\n",
       "\n",
       "#sk-container-id-3 div.sk-estimator.fitted:hover {\n",
       "  /* fitted */\n",
       "  background-color: var(--sklearn-color-fitted-level-2);\n",
       "}\n",
       "\n",
       "/* Specification for estimator info (e.g. \"i\" and \"?\") */\n",
       "\n",
       "/* Common style for \"i\" and \"?\" */\n",
       "\n",
       ".sk-estimator-doc-link,\n",
       "a:link.sk-estimator-doc-link,\n",
       "a:visited.sk-estimator-doc-link {\n",
       "  float: right;\n",
       "  font-size: smaller;\n",
       "  line-height: 1em;\n",
       "  font-family: monospace;\n",
       "  background-color: var(--sklearn-color-background);\n",
       "  border-radius: 1em;\n",
       "  height: 1em;\n",
       "  width: 1em;\n",
       "  text-decoration: none !important;\n",
       "  margin-left: 1ex;\n",
       "  /* unfitted */\n",
       "  border: var(--sklearn-color-unfitted-level-1) 1pt solid;\n",
       "  color: var(--sklearn-color-unfitted-level-1);\n",
       "}\n",
       "\n",
       ".sk-estimator-doc-link.fitted,\n",
       "a:link.sk-estimator-doc-link.fitted,\n",
       "a:visited.sk-estimator-doc-link.fitted {\n",
       "  /* fitted */\n",
       "  border: var(--sklearn-color-fitted-level-1) 1pt solid;\n",
       "  color: var(--sklearn-color-fitted-level-1);\n",
       "}\n",
       "\n",
       "/* On hover */\n",
       "div.sk-estimator:hover .sk-estimator-doc-link:hover,\n",
       ".sk-estimator-doc-link:hover,\n",
       "div.sk-label-container:hover .sk-estimator-doc-link:hover,\n",
       ".sk-estimator-doc-link:hover {\n",
       "  /* unfitted */\n",
       "  background-color: var(--sklearn-color-unfitted-level-3);\n",
       "  color: var(--sklearn-color-background);\n",
       "  text-decoration: none;\n",
       "}\n",
       "\n",
       "div.sk-estimator.fitted:hover .sk-estimator-doc-link.fitted:hover,\n",
       ".sk-estimator-doc-link.fitted:hover,\n",
       "div.sk-label-container:hover .sk-estimator-doc-link.fitted:hover,\n",
       ".sk-estimator-doc-link.fitted:hover {\n",
       "  /* fitted */\n",
       "  background-color: var(--sklearn-color-fitted-level-3);\n",
       "  color: var(--sklearn-color-background);\n",
       "  text-decoration: none;\n",
       "}\n",
       "\n",
       "/* Span, style for the box shown on hovering the info icon */\n",
       ".sk-estimator-doc-link span {\n",
       "  display: none;\n",
       "  z-index: 9999;\n",
       "  position: relative;\n",
       "  font-weight: normal;\n",
       "  right: .2ex;\n",
       "  padding: .5ex;\n",
       "  margin: .5ex;\n",
       "  width: min-content;\n",
       "  min-width: 20ex;\n",
       "  max-width: 50ex;\n",
       "  color: var(--sklearn-color-text);\n",
       "  box-shadow: 2pt 2pt 4pt #999;\n",
       "  /* unfitted */\n",
       "  background: var(--sklearn-color-unfitted-level-0);\n",
       "  border: .5pt solid var(--sklearn-color-unfitted-level-3);\n",
       "}\n",
       "\n",
       ".sk-estimator-doc-link.fitted span {\n",
       "  /* fitted */\n",
       "  background: var(--sklearn-color-fitted-level-0);\n",
       "  border: var(--sklearn-color-fitted-level-3);\n",
       "}\n",
       "\n",
       ".sk-estimator-doc-link:hover span {\n",
       "  display: block;\n",
       "}\n",
       "\n",
       "/* \"?\"-specific style due to the `<a>` HTML tag */\n",
       "\n",
       "#sk-container-id-3 a.estimator_doc_link {\n",
       "  float: right;\n",
       "  font-size: 1rem;\n",
       "  line-height: 1em;\n",
       "  font-family: monospace;\n",
       "  background-color: var(--sklearn-color-background);\n",
       "  border-radius: 1rem;\n",
       "  height: 1rem;\n",
       "  width: 1rem;\n",
       "  text-decoration: none;\n",
       "  /* unfitted */\n",
       "  color: var(--sklearn-color-unfitted-level-1);\n",
       "  border: var(--sklearn-color-unfitted-level-1) 1pt solid;\n",
       "}\n",
       "\n",
       "#sk-container-id-3 a.estimator_doc_link.fitted {\n",
       "  /* fitted */\n",
       "  border: var(--sklearn-color-fitted-level-1) 1pt solid;\n",
       "  color: var(--sklearn-color-fitted-level-1);\n",
       "}\n",
       "\n",
       "/* On hover */\n",
       "#sk-container-id-3 a.estimator_doc_link:hover {\n",
       "  /* unfitted */\n",
       "  background-color: var(--sklearn-color-unfitted-level-3);\n",
       "  color: var(--sklearn-color-background);\n",
       "  text-decoration: none;\n",
       "}\n",
       "\n",
       "#sk-container-id-3 a.estimator_doc_link.fitted:hover {\n",
       "  /* fitted */\n",
       "  background-color: var(--sklearn-color-fitted-level-3);\n",
       "}\n",
       "</style><div id=\"sk-container-id-3\" class=\"sk-top-container\"><div class=\"sk-text-repr-fallback\"><pre>RandomForestClassifier()</pre><b>In a Jupyter environment, please rerun this cell to show the HTML representation or trust the notebook. <br />On GitHub, the HTML representation is unable to render, please try loading this page with nbviewer.org.</b></div><div class=\"sk-container\" hidden><div class=\"sk-item\"><div class=\"sk-estimator fitted sk-toggleable\"><input class=\"sk-toggleable__control sk-hidden--visually\" id=\"sk-estimator-id-3\" type=\"checkbox\" checked><label for=\"sk-estimator-id-3\" class=\"sk-toggleable__label fitted sk-toggleable__label-arrow fitted\">&nbsp;&nbsp;RandomForestClassifier<a class=\"sk-estimator-doc-link fitted\" rel=\"noreferrer\" target=\"_blank\" href=\"https://scikit-learn.org/1.5/modules/generated/sklearn.ensemble.RandomForestClassifier.html\">?<span>Documentation for RandomForestClassifier</span></a><span class=\"sk-estimator-doc-link fitted\">i<span>Fitted</span></span></label><div class=\"sk-toggleable__content fitted\"><pre>RandomForestClassifier()</pre></div> </div></div></div></div>"
      ],
      "text/plain": [
       "RandomForestClassifier()"
      ]
     },
     "execution_count": 64,
     "metadata": {},
     "output_type": "execute_result"
    }
   ],
   "source": [
    "rfc=RandomForestClassifier()\n",
    "rfc.fit(X_train_initial, y_train_initial)"
   ]
  },
  {
   "cell_type": "code",
   "execution_count": 65,
   "id": "63b4e5b9-e55f-482c-bb03-148310baf23f",
   "metadata": {
    "scrolled": true
   },
   "outputs": [
    {
     "name": "stdout",
     "output_type": "stream",
     "text": [
      "              precision    recall  f1-score   support\n",
      "\n",
      "           0       1.00      1.00      1.00      8900\n",
      "           1       1.00      1.00      1.00      8955\n",
      "\n",
      "    accuracy                           1.00     17855\n",
      "   macro avg       1.00      1.00      1.00     17855\n",
      "weighted avg       1.00      1.00      1.00     17855\n",
      "\n"
     ]
    },
    {
     "data": {
      "image/png": "[encoded data removed]",
      "text/plain": [
       "<Figure size 1000x700 with 2 Axes>"
      ]
     },
     "metadata": {},
     "output_type": "display_data"
    },
    {
     "name": "stdout",
     "output_type": "stream",
     "text": [
      "[1.0, np.float64(1.0), np.float64(1.0), np.float64(1.0)]\n"
     ]
    }
   ],
   "source": [
    "y_pred = rfc.predict(X_test_initial)\n",
    "accuracy = accuracy_score(y_test, y_pred)\n",
    "precision = precision_score(y_test, y_pred)\n",
    "recall = recall_score(y_test, y_pred)\n",
    "f1 = f1_score(y_test, y_pred)\n",
    "print(classification_report(y_test, y_pred))\n",
    "plot_confusion_matrix(y_test, y_pred)\n",
    "#print(y_pred)\n",
    "print([accuracy, precision, recall, f1])"
   ]
  },
  {
   "cell_type": "code",
   "execution_count": null,
   "id": "d77f7df4-cd7d-4260-a4c7-824f77f5f4a4",
   "metadata": {},
   "outputs": [],
   "source": []
  },
  {
   "cell_type": "code",
   "execution_count": null,
   "id": "ee38977d-fc32-4973-8926-be8772808d57",
   "metadata": {},
   "outputs": [],
   "source": []
  },
  {
   "cell_type": "code",
   "execution_count": 66,
   "id": "eaa87ef4-d899-41cd-a089-15dc4f1d37fb",
   "metadata": {},
   "outputs": [],
   "source": [
    "filename=r'casa_prediction.sav'\n",
    "pickle.dump(rfc,open(filename,'wb'))"
   ]
  },
  {
   "cell_type": "code",
   "execution_count": null,
   "id": "945f4b9c-b098-41cf-8f65-885d70fad9dc",
   "metadata": {},
   "outputs": [],
   "source": []
  },
  {
   "cell_type": "code",
   "execution_count": null,
   "id": "dfe8e803",
   "metadata": {},
   "outputs": [],
   "source": []
  },
  {
   "cell_type": "code",
   "execution_count": null,
   "id": "473889b0",
   "metadata": {},
   "outputs": [],
   "source": []
  }
 ],
 "metadata": {
  "kernelspec": {
   "display_name": "Python 3",
   "language": "python",
   "name": "python3"
  },
  "language_info": {
   "codemirror_mode": {
    "name": "ipython",
    "version": 3
   },
   "file_extension": ".py",
   "mimetype": "text/x-python",
   "name": "python",
   "nbconvert_exporter": "python",
   "pygments_lexer": "ipython3",
   "version": "3.12.4"
  }
 },
 "nbformat": 4,
 "nbformat_minor": 5
}
