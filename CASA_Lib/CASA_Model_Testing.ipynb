{
 "cells": [
  {
   "cell_type": "code",
   "execution_count": 1,
   "id": "39df7ef1-7f97-40e8-b9c7-2613c436094b",
   "metadata": {},
   "outputs": [],
   "source": [
    "import pandas as pd\n",
    "import numpy as np\n",
    "# import matplotlib.pyplot as plt\n",
    "%matplotlib inline\n",
    "import seaborn as sns\n",
    "\n",
    "pd.pandas.set_option('display.max_columns',None)\n",
    "pd.pandas.set_option('display.max_rows',None)\n",
    "\n",
    "import datetime as datetime\n",
    "\n",
    "\n",
    "import plotly.express as px\n",
    "import plotly.offline as py\n",
    "import plotly.graph_objs as go\n",
    "\n",
    "\n",
    "import matplotlib.pyplot as plt\n",
    "import calendar\n",
    "from datetime import datetime\n"
   ]
  },
  {
   "cell_type": "code",
   "execution_count": 2,
   "id": "bdf91150-32c4-4be9-8146-b630e829afb7",
   "metadata": {},
   "outputs": [],
   "source": [
    "import pickle\n",
    "import numpy as np\n",
    "from sklearn.preprocessing import StandardScaler"
   ]
  },
  {
   "cell_type": "code",
   "execution_count": 3,
   "id": "58b40af9-8a06-48c7-b635-0a777347ac91",
   "metadata": {
    "scrolled": true
   },
   "outputs": [],
   "source": [
    "def get_choice(options):\n",
    "    # Display choices\n",
    "    print(\"Please select one of the following options:\")\n",
    "    for idx, option in enumerate(options, 1):\n",
    "        print(f\"{idx}. {option}\")\n",
    "\n",
    "    # Get user input\n",
    "    while True:\n",
    "        try:\n",
    "            choice = int(input(\"Enter the number of your choice: \"))\n",
    "            if 1 <= choice <= len(options):\n",
    "                return options[choice - 1]\n",
    "            else:\n",
    "                print(\"Invalid choice. Please enter a number from the list.\")\n",
    "        except ValueError:\n",
    "            print(\"Invalid input. Please enter a number.\")\n",
    "\n",
    "# Example usage\n"
   ]
  },
  {
   "cell_type": "code",
   "execution_count": 4,
   "id": "c1106dd5-bc32-4b9c-8221-1af6995a037d",
   "metadata": {},
   "outputs": [],
   "source": [
    "df=pd.read_csv('model_dataset.csv')"
   ]
  },
  {
   "cell_type": "code",
   "execution_count": 5,
   "id": "bc43db3a-e60a-4a79-9383-7b91ffcc41e5",
   "metadata": {},
   "outputs": [],
   "source": [
    "data=df.copy()\n",
    "data['Date'] = pd.to_datetime(data['Date'])\n",
    "data['year']=data['Date'].dt.year\n",
    "\n",
    "data['Card Number']=data['Card Number'].astype(np.int64)\n",
    "data['year']=data['year'].astype('str')\n",
    "data['MCC']=data['MCC'].astype('str')\n",
    "data['Is Fraud?']=data['Is Fraud?'].map({0: 'Non_Fraudulent', 1: 'Fraudulent'})\n",
    "data['Has Chip']=data['Has Chip'].map({0: 'NO', 1: 'Yes'})"
   ]
  },
  {
   "cell_type": "code",
   "execution_count": 6,
   "id": "7844fcb1-d0dd-4b4c-ad51-c21703a69fea",
   "metadata": {},
   "outputs": [],
   "source": [
    "dfas=data[data['Is Fraud?']=='Fraudulent']"
   ]
  },
  {
   "cell_type": "code",
   "execution_count": 7,
   "id": "64018766-f919-461e-83ee-a3d47efb70c1",
   "metadata": {},
   "outputs": [],
   "source": [
    "def visualization(das_df,card_number):    \n",
    "    try:              \n",
    "        x=int(card_number)        \n",
    "        data=das_df[das_df['Card Number']==x] \n",
    "        #Data disribution\n",
    "        \n",
    "        labels = data['Is Fraud?'].value_counts().index\n",
    "        values = data['Is Fraud?'].value_counts().values\n",
    "        fig = go.Figure(data=[go.Pie(labels=labels, values=values, hole=.3)])\n",
    "        fig.update_layout(\n",
    "            title=\"Credit Card transaction Data Distribution\".upper(),\n",
    "            font=dict(\n",
    "                family=\"Courier New, monospace\",\n",
    "                size=18,\n",
    "                color=\"#000000\"\n",
    "            )\n",
    "        )\n",
    "        \n",
    "        fig.show()\n",
    "\n",
    "\n",
    "        labels = data['Has Chip'].value_counts().index\n",
    "        values = data['Has Chip'].value_counts().values\n",
    "        fig = go.Figure(data=[go.Pie(labels=labels, values=values, hole=.3)])\n",
    "        fig.update_layout(\n",
    "            title=\"Analysis of chip in card\".upper(),\n",
    "            font=dict(\n",
    "                family=\"Courier New, monospace\",\n",
    "                size=18,\n",
    "                color=\"#000000\"\n",
    "            )\n",
    "        )\n",
    "        \n",
    "        fig.show()\n",
    "        \n",
    "          \n",
    "        df1=pd.DataFrame()\n",
    "        df1['year']=data['year'].unique().tolist()\n",
    "        \n",
    "        df1.sort_values(by='year', inplace = True)\n",
    "        \n",
    "        df1['year']=df1['year'].astype(str)\n",
    "        df1=df1.reset_index()\n",
    "        del df1['index']\n",
    "        \n",
    "        da=data.groupby(by=['year','Is Fraud?']).size().reset_index(name='credit_card_Transactions')\n",
    "        da['year']=da['year'].astype(str)\n",
    "        \n",
    "        Fraud_trans=[]\n",
    "        Non_Fraud_trans=[]\n",
    "        for i in range(df1.shape[0]):\n",
    "            da1=da[da['year']==df1['year'][i]]\n",
    "            if da1.shape[0]>0:\n",
    "                if da1[da1['Is Fraud?']=='Non_Fraudulent'].shape[0]>0:                    \n",
    "                    Non_Fraud_trans.append(da1[da1['Is Fraud?']=='Non_Fraudulent']['credit_card_Transactions'].tolist()[0])\n",
    "                else:\n",
    "                    Non_Fraud_trans.append(0)\n",
    "                if da1[da1['Is Fraud?']=='Fraudulent'].shape[0]>0:\n",
    "                    Fraud_trans.append(da1[da1['Is Fraud?']=='Fraudulent']['credit_card_Transactions'].tolist()[0])\n",
    "                else:\n",
    "                    Fraud_trans.append(0)\n",
    "        df1['Non_Fraudulent_trans']=Non_Fraud_trans \n",
    "        df1['Fraudulent_trans']=Fraud_trans\n",
    "        a=df1['year'].values\n",
    "        b=Non_Fraud_trans\n",
    "        c=Fraud_trans\n",
    "        \n",
    "        fig = go.Figure(\n",
    "        data=go.Scatter(x=a,y=b,name=\"Non_Fraudulent Transactions\",marker=dict(color=\"blue\"),mode=\"lines+text\",text=b,textposition=\"top right\"))\n",
    "    \n",
    "        fig.adf_trace(go.Bar(x=a,y=c,yaxis=\"y2\",name=\"Fraudulent Transactions\",marker=dict(color=\"red\"),text=c,textposition=\"inside\",))\n",
    "    \n",
    "        fig.update_layout(legend=dict(orientation=\"h\"),yaxis=dict(title=dict(text=\"Non_Fraudulent Transactions\"),side=\"left\",),\n",
    "            yaxis2=dict(title=dict(text=\"Fraudulent Transactions\"),side=\"right\",overlaying=\"y\",tickmode=\"sync\",),\n",
    "            width=1100,\n",
    "            height=500,\n",
    "            title='credit card data distribution'.upper()\n",
    "        )\n",
    "        \n",
    "        fig.show()   \n",
    "\n",
    "\n",
    "        df=data.groupby('Use Chip')['Use Chip'].agg(['count']).sort_values(by='count',ascending=False)[:10]\n",
    "        df=df.reset_index()\n",
    "        fig=px.bar(data_frame=df,x='Use Chip',y='count',color='Use Chip',barmode='group',text_auto=True,title='Analysis of Types of transactions'.upper())\n",
    "        fig.show()\n",
    "\n",
    "        df=data.groupby(by=['Use Chip','Is Fraud?']).size().reset_index(name='No. of Transactions')\n",
    "        fig1=px.bar(data_frame=df,x='Use Chip',y='No. of Transactions',color='Is Fraud?',barmode='group',text_auto=True,title='Trans.types/is_fraud wise Data detection'.upper())\n",
    "        fig1.show()\n",
    "\n",
    "        \n",
    "        df=data.groupby('MCC')['MCC'].agg(['count']).sort_values(by='count',ascending=False)[:10]\n",
    "        df=df.reset_index()\n",
    "        fig=px.bar(data_frame=df,x='MCC',y='count',color='MCC',barmode='group',text_auto=True,title='Category code card Wise Fraud Detection'.upper())\n",
    "        fig.show()\n",
    "\n",
    "        df1=data.copy()\n",
    "        df1.loc[df1['Amount'].between(-1000,0), 'amount_range'] = '-1k-0k'\n",
    "        df1.loc[df1['Amount'].between(0,200), 'amount_range'] = '0-0.2k'\n",
    "        df1.loc[df1['Amount'].between(200,400), 'amount_range'] = '0.2k-0.4k'\n",
    "        df1.loc[df1['Amount'].between(400,600), 'amount_range'] = '0.4k-0.6k'\n",
    "        df1.loc[df1['Amount'].between(600,800), 'amount_range'] = '0.6k-0.8k'\n",
    "        df1.loc[df1['Amount'].between(800,1000), 'amount_range'] = '0.8k-1k'\n",
    "        df1.loc[df1['Amount'].between(1000,1200), 'amount_range'] = '1k-1.2k'\n",
    "        df1.loc[df1['Amount'].between(1200,1400), 'amount_range'] = '1.2k-1.4k'\n",
    "        df1.loc[df1['Amount'].between(1400,1600), 'amount_range'] = '1.4k-1.6k'\n",
    "        df1.loc[df1['Amount'].between(1600,1800), 'amount_range'] = '1.6k-1.8k'\n",
    "        df1.loc[df1['Amount'].between(1800,2000), 'amount_range'] = '1.8k-2k'\n",
    "        df1.loc[df1['Amount']>2000, 'amount_range'] = '>2k'\n",
    "        df_d=df1.copy()\n",
    "        df1=df1.groupby(by=['amount_range','Is Fraud?']).size().reset_index(name='No. of Transactions')\n",
    "        fig1=px.bar(data_frame=df1,x='amount_range',y='No. of Transactions',color='Is Fraud?',barmode='group',text_auto=True,title='amount_range/is_fraud wise Data detection'.upper())\n",
    "        fig1.show()\n",
    "\n",
    "        df=df_d.groupby(by=['Use Chip','amount_range']).size().reset_index(name='No. of Incidents')\n",
    "        fig20=px.bar(data_frame=df,x='amount_range',y='No. of Incidents',color='Use Chip',barmode='group',title='types of transactions/is_fraud wise Fraud detection'.upper(),text_auto=True)\n",
    "        fig20.show()\n",
    "\n",
    "        fig = px.sunburst(\n",
    "            df_d,\n",
    "            path=[\"Card Number\", 'Card Brand',\"Has Chip\",\"Is Fraud?\",\"Use Chip\",\"MCC\",'amount_range'],\n",
    "            title=\"Overall Data Distribution\",\n",
    "            color=\"Is Fraud?\",\n",
    "            height=800,\n",
    "        )\n",
    "            # display the figure\n",
    "        fig.show()\n",
    " \n",
    "    except Exception as e:\n",
    "        print('please enter valid credit card number')"
   ]
  },
  {
   "cell_type": "code",
   "execution_count": null,
   "id": "f3b90152-19ae-4a23-aa18-3e8417721517",
   "metadata": {},
   "outputs": [],
   "source": []
  },
  {
   "cell_type": "code",
   "execution_count": null,
   "id": "305376d3-c302-4ea5-ab96-15c95510d227",
   "metadata": {},
   "outputs": [],
   "source": []
  },
  {
   "cell_type": "code",
   "execution_count": null,
   "id": "cc72fb3a-408a-47b4-89dd-10779656e583",
   "metadata": {},
   "outputs": [],
   "source": []
  },
  {
   "cell_type": "code",
   "execution_count": 8,
   "id": "d2cc3c9f-c837-4981-a944-264a799fc5a2",
   "metadata": {},
   "outputs": [],
   "source": [
    "with open(r'training_dataMerchant State.pkl', 'rb') as file:\n",
    "    merchant_state_label_encoder = pickle.load(file)"
   ]
  },
  {
   "cell_type": "code",
   "execution_count": 9,
   "id": "372086b3-08c4-4bd4-8ffa-283c6aac8bbc",
   "metadata": {},
   "outputs": [],
   "source": [
    "with open(r'training_dataMerchant City.pkl', 'rb') as file:\n",
    "    Merchant_City_label_encoder = pickle.load(file)"
   ]
  },
  {
   "cell_type": "code",
   "execution_count": 10,
   "id": "954ce476",
   "metadata": {},
   "outputs": [],
   "source": [
    "with open(r'training_dataCard Type.pkl', 'rb') as file:\n",
    "    Card_Type_label_encoder = pickle.load(file)"
   ]
  },
  {
   "cell_type": "code",
   "execution_count": 11,
   "id": "8871c0d3-648f-4621-9ba0-b764bb1e4dba",
   "metadata": {},
   "outputs": [],
   "source": [
    "scaler1 = pickle.load(open(r'scaled_data.sav', 'rb'))"
   ]
  },
  {
   "cell_type": "code",
   "execution_count": 12,
   "id": "923b7c03-f588-4d19-a3ae-8aa7925b02c5",
   "metadata": {},
   "outputs": [],
   "source": [
    "rfc=pickle.load(open(r'casa_prediction.sav','rb'))"
   ]
  },
  {
   "cell_type": "code",
   "execution_count": null,
   "id": "a9a6c472-b81f-4460-a14b-556d1bb0ccb3",
   "metadata": {},
   "outputs": [],
   "source": []
  },
  {
   "cell_type": "code",
   "execution_count": null,
   "id": "1d7f38b7-3297-498f-8c07-82e419dd8c3e",
   "metadata": {},
   "outputs": [],
   "source": []
  },
  {
   "cell_type": "code",
   "execution_count": 13,
   "id": "76ab3aae-36c1-4b98-9143-e1c17a21f81e",
   "metadata": {},
   "outputs": [
    {
     "ename": "SyntaxError",
     "evalue": "invalid syntax (1028190804.py, line 1)",
     "output_type": "error",
     "traceback": [
      "\u001b[1;36m  Cell \u001b[1;32mIn[13], line 1\u001b[1;36m\u001b[0m\n\u001b[1;33m    please enter the card number: 4879494103069057\u001b[0m\n\u001b[1;37m           ^\u001b[0m\n\u001b[1;31mSyntaxError\u001b[0m\u001b[1;31m:\u001b[0m invalid syntax\n"
     ]
    }
   ],
   "source": [
    "please enter the card number: 4879494103069057\n",
    "please enter the Credit Limit: 12400\n",
    "please enter the mmc number: 5411\n",
    "please enter the FICO Score: 787\n",
    "please enter the transaction amount: 130.23\n",
    "please enter the Yearly Income: 59696\n",
    "please enter the Current Age: 53"
   ]
  },
  {
   "cell_type": "code",
   "execution_count": 28,
   "id": "214e505f-c71e-4050-8830-63ce831e4886",
   "metadata": {},
   "outputs": [],
   "source": [
    "def information():\n",
    "    try:\n",
    "        Card_Number=np.array([int(input('please enter the card number:'))])\n",
    "        \n",
    "        data_shape=data[data['Card Number']==Card_Number[0]].shape[0]\n",
    "        if data_shape>0:\n",
    "            FICO_Score=np.array([int(input('please enter the FICO Score:'))])\n",
    "\n",
    "            Yearly_Income=np.array([int(input('please enter the Yearly Income:'))])\n",
    "\n",
    "            Current_Age=np.array([int(input('please enter the Current Age:'))])\n",
    "            \n",
    "            Credit_Limit=np.array([int(input('please enter the Credit Limit:'))])\n",
    "            \n",
    "            mcc=np.array([int(input('please enter the MCC number:'))])           \n",
    "            \n",
    "            amount=np.array([float(input('please enter the transaction amount:'))])           \n",
    "            \n",
    "            use_chip_opt=['Swipe Transaction','Chip Transaction','Online Transaction']\n",
    "            use_chip=get_choice(use_chip_opt)\n",
    "            use_chip_map={'Swipe Transaction':[1], 'Chip Transaction':[2], 'Online Transaction':[3]}\n",
    "            use_chip=use_chip_map.get(use_chip, \"Invalid input\")\n",
    "            \n",
    "            Card_rand_opt=['Visa','Amex','Mastercard','Discover']\n",
    "            Card_Brand=get_choice(Card_rand_opt)\n",
    "            Card_Brand_map={'Visa':[1], 'Amex':[2], 'Mastercard':[3], 'Discover':[4]}\n",
    "            Card_Brand=Card_Brand_map.get(Card_Brand, \"Invalid input\")\n",
    "\n",
    "            Card_Type_opt=['Debit','Debit(Prepaid)','Credit']\n",
    "            Card_Type=get_choice(Card_Type_opt)\n",
    "            Card_Type_map={'Debit':[1], 'Debit(Prepaid)':[2], 'Credit':[3]}\n",
    "            Card_Type=Card_Type_map.get(Card_Type, \"Invalid input\")\n",
    "\n",
    "            merchant_state=merchant_state_label_encoder.transform([str(input('please enter merchant state:-')).upper().strip()])\n",
    "            \n",
    "            Merchant_City=Merchant_City_label_encoder.transform([str(input('please enter merchant city:-')).strip()])\n",
    "            \n",
    "            \n",
    "            options=['YES','NO']\n",
    "            Has_Chip=get_choice(options)\n",
    "            opt_map={'YES':[1], 'NO':[0]}\n",
    "            Has_Chip=opt_map.get(Has_Chip, \"Invalid input\")\n",
    "            \n",
    "            Card_Index=np.array([float(input('please enter the Card Index:'))])\n",
    "            \n",
    "            user_Latitude=np.array([float(input('please enter the user Latitude:'))])\n",
    "            \n",
    "            user_Longitude=np.array([float(input('please enter the user Longitude:'))])\n",
    "    \n",
    "            print('\\033[92m\\033[1m THE VISUALISATIONS OF PAST CARD TRANSACTIONS:- ')\n",
    "            visualization(data,Card_Number[0])\n",
    "    \n",
    "            input_d=np.concatenate((amount,use_chip,Merchant_City,merchant_state,mcc,Card_Brand,Card_Type,Card_Number,Has_Chip,Credit_Limit,Current_Age,user_Latitude,user_Longitude,Yearly_Income,FICO_Score))\n",
    "            input_d=np.concatenate((amount,use_chip,Merchant_City,merchant_state,mcc,Current_Age,user_Latitude,user_Longitude,Yearly_Income,FICO_Score,Card_Index,Card_Brand,Card_Type,Card_Number,Has_Chip,Credit_Limit))\n",
    "            input1=input_d.astype(np.float64) \n",
    "            input_data=input1.reshape(1, -1)\n",
    "    \n",
    "        else:\n",
    "            print('Oh! Sorry. Please enter Correct card number')\n",
    "    except Exception as e:\n",
    "        print('\\033[91m\\033[1mSorry. Please enter valid credit card number or Proper details')\n",
    "        input_data=''\n",
    "    return input_data"
   ]
  },
  {
   "cell_type": "code",
   "execution_count": null,
   "id": "224e1db8",
   "metadata": {},
   "outputs": [],
   "source": []
  },
  {
   "cell_type": "code",
   "execution_count": 18,
   "id": "e223bd74-2b10-4501-8171-ec11ced5929f",
   "metadata": {},
   "outputs": [
    {
     "data": {
      "text/html": [
       "<div>\n",
       "<style scoped>\n",
       "    .dataframe tbody tr th:only-of-type {\n",
       "        vertical-align: middle;\n",
       "    }\n",
       "\n",
       "    .dataframe tbody tr th {\n",
       "        vertical-align: top;\n",
       "    }\n",
       "\n",
       "    .dataframe thead th {\n",
       "        text-align: right;\n",
       "    }\n",
       "</style>\n",
       "<table border=\"1\" class=\"dataframe\">\n",
       "  <thead>\n",
       "    <tr style=\"text-align: right;\">\n",
       "      <th></th>\n",
       "      <th>Unnamed: 0</th>\n",
       "      <th>Date</th>\n",
       "      <th>Amount</th>\n",
       "      <th>Use Chip</th>\n",
       "      <th>Merchant City</th>\n",
       "      <th>Merchant State</th>\n",
       "      <th>MCC</th>\n",
       "      <th>Is Fraud?</th>\n",
       "      <th>Current Age</th>\n",
       "      <th>Gender</th>\n",
       "      <th>Latitude</th>\n",
       "      <th>Longitude</th>\n",
       "      <th>Yearly Income - Person</th>\n",
       "      <th>Total Debt</th>\n",
       "      <th>FICO Score</th>\n",
       "      <th>CARD INDEX</th>\n",
       "      <th>Card Brand</th>\n",
       "      <th>Card Type</th>\n",
       "      <th>Card Number</th>\n",
       "      <th>Has Chip</th>\n",
       "      <th>Cards Issued</th>\n",
       "      <th>Credit Limit</th>\n",
       "      <th>year</th>\n",
       "    </tr>\n",
       "  </thead>\n",
       "  <tbody>\n",
       "    <tr>\n",
       "      <th>0</th>\n",
       "      <td>0</td>\n",
       "      <td>2015-11-15</td>\n",
       "      <td>287.13</td>\n",
       "      <td>Online Transaction</td>\n",
       "      <td>ONLINE</td>\n",
       "      <td>ONLINE</td>\n",
       "      <td>3001</td>\n",
       "      <td>Fraudulent</td>\n",
       "      <td>53</td>\n",
       "      <td>Female</td>\n",
       "      <td>34.15</td>\n",
       "      <td>-117.76</td>\n",
       "      <td>59696</td>\n",
       "      <td>127613</td>\n",
       "      <td>787</td>\n",
       "      <td>0</td>\n",
       "      <td>Visa</td>\n",
       "      <td>Debit</td>\n",
       "      <td>4344676511950444</td>\n",
       "      <td>Yes</td>\n",
       "      <td>2</td>\n",
       "      <td>24295</td>\n",
       "      <td>2015</td>\n",
       "    </tr>\n",
       "  </tbody>\n",
       "</table>\n",
       "</div>"
      ],
      "text/plain": [
       "   Unnamed: 0       Date  Amount            Use Chip Merchant City  \\\n",
       "0           0 2015-11-15  287.13  Online Transaction        ONLINE   \n",
       "\n",
       "  Merchant State   MCC   Is Fraud?  Current Age  Gender  Latitude  Longitude  \\\n",
       "0         ONLINE  3001  Fraudulent           53  Female     34.15    -117.76   \n",
       "\n",
       "   Yearly Income - Person  Total Debt  FICO Score  CARD INDEX Card Brand  \\\n",
       "0                   59696      127613         787           0       Visa   \n",
       "\n",
       "  Card Type       Card Number Has Chip  Cards Issued  Credit Limit  year  \n",
       "0     Debit  4344676511950444      Yes             2         24295  2015  "
      ]
     },
     "execution_count": 18,
     "metadata": {},
     "output_type": "execute_result"
    }
   ],
   "source": [
    "dfas.head(1)"
   ]
  },
  {
   "cell_type": "code",
   "execution_count": 29,
   "id": "94fc64a3-4c3f-4811-b18b-5860cbd7baa4",
   "metadata": {},
   "outputs": [
    {
     "name": "stdout",
     "output_type": "stream",
     "text": [
      "Please select one of the following options:\n",
      "1. Swipe Transaction\n",
      "2. Chip Transaction\n",
      "3. Online Transaction\n",
      "Please select one of the following options:\n",
      "1. Visa\n",
      "2. Amex\n",
      "3. Mastercard\n",
      "4. Discover\n",
      "Please select one of the following options:\n",
      "1. Debit\n",
      "2. Debit(Prepaid)\n",
      "3. Credit\n",
      "Please select one of the following options:\n",
      "1. YES\n",
      "2. NO\n",
      "\u001b[92m\u001b[1m THE VISUALISATIONS OF PAST CARD TRANSACTIONS:- \n",
      "please enter valid credit card number\n"
     ]
    }
   ],
   "source": [
    "xx=information()"
   ]
  },
  {
   "cell_type": "code",
   "execution_count": 21,
   "id": "7e5d6040-8d45-4b7c-b359-f15f03ea0429",
   "metadata": {},
   "outputs": [
    {
     "name": "stdout",
     "output_type": "stream",
     "text": [
      "Please select one of the following options:\n",
      "1. Swipe Transaction\n",
      "2. Chip Transaction\n",
      "3. Online Transaction\n",
      "Please select one of the following options:\n",
      "1. Visa\n",
      "2. Amex\n",
      "3. Mastercard\n",
      "4. Discover\n",
      "Please select one of the following options:\n",
      "1. Debit\n",
      "2. Debit(Prepaid)\n",
      "3. Credit\n",
      "Please select one of the following options:\n",
      "1. YES\n",
      "2. NO\n",
      "\u001b[92m\u001b[1m THE VISUALISATIONS OF PAST CARD TRANSACTIONS:- \n",
      "please enter valid credit card number\n"
     ]
    }
   ],
   "source": [
    "xx=information()"
   ]
  },
  {
   "cell_type": "code",
   "execution_count": null,
   "id": "8a5ebd00-daae-4397-99d0-24985431a3be",
   "metadata": {},
   "outputs": [],
   "source": []
  },
  {
   "cell_type": "code",
   "execution_count": null,
   "id": "249023c0-ddf7-4163-987c-b4b7895d76c1",
   "metadata": {},
   "outputs": [],
   "source": [
    "red = '\\033[91m'\n",
    "green = '\\033[92m'\n",
    "blue = '\\033[94m'\n",
    "bold = '\\033[1m'\n",
    "italics = '\\033[3m'\n",
    "underline = '\\033[4m'\n",
    "end = '\\033[0m'"
   ]
  },
  {
   "cell_type": "code",
   "execution_count": 30,
   "id": "dcedf94e",
   "metadata": {},
   "outputs": [
    {
     "data": {
      "text/plain": [
       "array([[ 2.87130000e+02,  3.00000000e+00,  2.60600000e+03,\n",
       "         6.80000000e+01,  3.00100000e+03,  5.30000000e+01,\n",
       "         3.41500000e+01, -1.17760000e+02,  5.96960000e+04,\n",
       "         7.87000000e+02,  0.00000000e+00,  1.00000000e+00,\n",
       "         1.00000000e+00,  4.34467651e+15,  1.00000000e+00,\n",
       "         2.42950000e+04]])"
      ]
     },
     "execution_count": 30,
     "metadata": {},
     "output_type": "execute_result"
    }
   ],
   "source": [
    "xx"
   ]
  },
  {
   "cell_type": "code",
   "execution_count": 31,
   "id": "3bfe5119-d39a-40f5-875f-fd91c8dfea6f",
   "metadata": {},
   "outputs": [
    {
     "name": "stderr",
     "output_type": "stream",
     "text": [
      "c:\\Users\\bharath.venkatesan\\AppData\\Local\\Programs\\Python\\Python312\\Lib\\site-packages\\sklearn\\base.py:493: UserWarning:\n",
      "\n",
      "X does not have valid feature names, but StandardScaler was fitted with feature names\n",
      "\n"
     ]
    }
   ],
   "source": [
    "X_test_initial= scaler1.transform(xx)"
   ]
  },
  {
   "cell_type": "code",
   "execution_count": 32,
   "id": "6874d2fd-2e00-4fe4-80a8-ce6ec1351ef5",
   "metadata": {},
   "outputs": [
    {
     "data": {
      "text/plain": [
       "array([[ 1.32815735,  1.21569687,  0.33557832,  0.56803792, -2.51759799,\n",
       "        -0.22376   , -0.58133998, -1.54364486,  0.65739627,  1.08652565,\n",
       "        -1.06602443, -1.25099825,  0.39424676, -0.34576871,  0.32235086,\n",
       "         0.90604373]])"
      ]
     },
     "execution_count": 32,
     "metadata": {},
     "output_type": "execute_result"
    }
   ],
   "source": [
    "X_test_initial"
   ]
  },
  {
   "cell_type": "code",
   "execution_count": 33,
   "id": "1940e70c-a576-4825-8b4b-4cfe83b9bbe0",
   "metadata": {},
   "outputs": [],
   "source": [
    "x=rfc.predict(X_test_initial)"
   ]
  },
  {
   "cell_type": "code",
   "execution_count": 34,
   "id": "246f9dd1-fcb1-42e2-9500-dc464ac63653",
   "metadata": {},
   "outputs": [
    {
     "name": "stdout",
     "output_type": "stream",
     "text": [
      "\u001b[1m\u001b[91mSorry! The transaction may be fraudlent transaction\n"
     ]
    }
   ],
   "source": [
    "if x[0]==0:\n",
    "    print('\\033[1m\\033[92mThe transaction is not a fraudlent transaction')\n",
    "else:\n",
    "    print('\\033[1m\\033[91mSorry! The transaction may be fraudlent transaction')"
   ]
  },
  {
   "cell_type": "code",
   "execution_count": null,
   "id": "2a596812-08f9-4d3d-adb3-50ba94f33d57",
   "metadata": {},
   "outputs": [],
   "source": []
  },
  {
   "cell_type": "code",
   "execution_count": null,
   "id": "a11fb208",
   "metadata": {},
   "outputs": [],
   "source": []
  }
 ],
 "metadata": {
  "kernelspec": {
   "display_name": "Python 3",
   "language": "python",
   "name": "python3"
  },
  "language_info": {
   "codemirror_mode": {
    "name": "ipython",
    "version": 3
   },
   "file_extension": ".py",
   "mimetype": "text/x-python",
   "name": "python",
   "nbconvert_exporter": "python",
   "pygments_lexer": "ipython3",
   "version": "3.12.4"
  }
 },
 "nbformat": 4,
 "nbformat_minor": 5
}
